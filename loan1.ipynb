{
 "cells": [
  {
   "cell_type": "markdown",
   "metadata": {},
   "source": [
    "# Introduction"
   ]
  },
  {
   "cell_type": "markdown",
   "metadata": {},
   "source": [
    "The data comes from a company that gives out credit to individuals. The objective is to use the data to fit the best possible model and predict the binary “Target” (for the lines 2058 to 2572). Please provide the final model and justification on the choice of the selected model as well as describe the methods used. "
   ]
  },
  {
   "cell_type": "markdown",
   "metadata": {},
   "source": [
    "# Import libraries"
   ]
  },
  {
   "cell_type": "code",
   "execution_count": 1,
   "metadata": {},
   "outputs": [],
   "source": [
    "# basics :\n",
    "import pandas as pd\n",
    "import numpy as np\n",
    "import datetime\n",
    "\n",
    "# plot\n",
    "import matplotlib.pyplot as plt\n",
    "import seaborn as sns\n",
    "%matplotlib inline\n",
    "\n",
    "# impute and scale data\n",
    "from sklearn.preprocessing import Imputer, StandardScaler, OneHotEncoder, FunctionTransformer\n",
    "from sklearn.decomposition import PCA\n",
    "# models\n",
    "from sklearn.tree import DecisionTreeClassifier\n",
    "from sklearn.linear_model import LogisticRegression\n",
    "from sklearn.neighbors import KNeighborsClassifier\n",
    "from sklearn.ensemble import GradientBoostingClassifier, RandomForestClassifier\n",
    "# selection, pipeline\n",
    "from sklearn.model_selection import GridSearchCV, RandomizedSearchCV, train_test_split, cross_val_score\n",
    "from sklearn.discriminant_analysis import LinearDiscriminantAnalysis as LDA\n",
    "from sklearn.pipeline import Pipeline, FeatureUnion\n",
    "# metrics\n",
    "from sklearn import metrics\n",
    "from sklearn.metrics import classification_report, confusion_matrix, accuracy_score, roc_auc_score\n",
    "# save models\n",
    "from sklearn.externals import joblib"
   ]
  },
  {
   "cell_type": "markdown",
   "metadata": {},
   "source": [
    "# Load data"
   ]
  },
  {
   "cell_type": "code",
   "execution_count": 2,
   "metadata": {},
   "outputs": [],
   "source": [
    "# read data \n",
    "path1 = '../../../datasets/ferr/caseintro/variabletypes.xlsx'\n",
    "path2 = '../../../datasets/ferr/caseintro/Assignment_Data.csv'\n",
    "variabletypes = pd.read_excel(path1)\n",
    "df = pd.read_csv(path2, sep=\";\")"
   ]
  },
  {
   "cell_type": "code",
   "execution_count": 3,
   "metadata": {},
   "outputs": [],
   "source": [
    "n = df.shape[0]"
   ]
  },
  {
   "cell_type": "markdown",
   "metadata": {},
   "source": [
    "# Inspect data"
   ]
  },
  {
   "cell_type": "code",
   "execution_count": 4,
   "metadata": {},
   "outputs": [
    {
     "data": {
      "text/plain": [
       "(2572, 55)"
      ]
     },
     "execution_count": 4,
     "metadata": {},
     "output_type": "execute_result"
    }
   ],
   "source": [
    "df.shape"
   ]
  },
  {
   "cell_type": "code",
   "execution_count": 5,
   "metadata": {},
   "outputs": [
    {
     "data": {
      "text/plain": [
       "515"
      ]
     },
     "execution_count": 5,
     "metadata": {},
     "output_type": "execute_result"
    }
   ],
   "source": [
    "# testing set\n",
    "df.Target.isnull().sum()"
   ]
  },
  {
   "cell_type": "code",
   "execution_count": 6,
   "metadata": {},
   "outputs": [
    {
     "data": {
      "text/plain": [
       "2057"
      ]
     },
     "execution_count": 6,
     "metadata": {},
     "output_type": "execute_result"
    }
   ],
   "source": [
    "# training set\n",
    "df.Target.notnull().sum()"
   ]
  },
  {
   "cell_type": "code",
   "execution_count": 7,
   "metadata": {},
   "outputs": [
    {
     "data": {
      "text/plain": [
       "Type\n",
       "Binary          1\n",
       "Categorical     4\n",
       "Date            8\n",
       "ID              4\n",
       "Numeric        36\n",
       "Ordinal         2\n",
       "dtype: int64"
      ]
     },
     "execution_count": 7,
     "metadata": {},
     "output_type": "execute_result"
    }
   ],
   "source": [
    "variabletypes.groupby('Type').size()"
   ]
  },
  {
   "cell_type": "code",
   "execution_count": 8,
   "metadata": {},
   "outputs": [
    {
     "data": {
      "text/html": [
       "<div>\n",
       "<style>\n",
       "    .dataframe thead tr:only-child th {\n",
       "        text-align: right;\n",
       "    }\n",
       "\n",
       "    .dataframe thead th {\n",
       "        text-align: left;\n",
       "    }\n",
       "\n",
       "    .dataframe tbody tr th {\n",
       "        vertical-align: top;\n",
       "    }\n",
       "</style>\n",
       "<table border=\"1\" class=\"dataframe\">\n",
       "  <thead>\n",
       "    <tr style=\"text-align: right;\">\n",
       "      <th></th>\n",
       "      <th>Test_Name</th>\n",
       "      <th>Type</th>\n",
       "    </tr>\n",
       "  </thead>\n",
       "  <tbody>\n",
       "    <tr>\n",
       "      <th>0</th>\n",
       "      <td>country_id</td>\n",
       "      <td>ID</td>\n",
       "    </tr>\n",
       "    <tr>\n",
       "      <th>1</th>\n",
       "      <td>application_id</td>\n",
       "      <td>ID</td>\n",
       "    </tr>\n",
       "    <tr>\n",
       "      <th>2</th>\n",
       "      <td>product_id</td>\n",
       "      <td>ID</td>\n",
       "    </tr>\n",
       "    <tr>\n",
       "      <th>3</th>\n",
       "      <td>v1</td>\n",
       "      <td>Numeric</td>\n",
       "    </tr>\n",
       "    <tr>\n",
       "      <th>4</th>\n",
       "      <td>v2</td>\n",
       "      <td>Numeric</td>\n",
       "    </tr>\n",
       "    <tr>\n",
       "      <th>5</th>\n",
       "      <td>v3</td>\n",
       "      <td>Numeric</td>\n",
       "    </tr>\n",
       "    <tr>\n",
       "      <th>6</th>\n",
       "      <td>v4</td>\n",
       "      <td>Numeric</td>\n",
       "    </tr>\n",
       "    <tr>\n",
       "      <th>7</th>\n",
       "      <td>v5</td>\n",
       "      <td>Categorical</td>\n",
       "    </tr>\n",
       "    <tr>\n",
       "      <th>8</th>\n",
       "      <td>v6</td>\n",
       "      <td>Categorical</td>\n",
       "    </tr>\n",
       "    <tr>\n",
       "      <th>9</th>\n",
       "      <td>v7</td>\n",
       "      <td>Numeric</td>\n",
       "    </tr>\n",
       "    <tr>\n",
       "      <th>10</th>\n",
       "      <td>due_date</td>\n",
       "      <td>Date</td>\n",
       "    </tr>\n",
       "    <tr>\n",
       "      <th>11</th>\n",
       "      <td>first_status_day_date</td>\n",
       "      <td>Date</td>\n",
       "    </tr>\n",
       "    <tr>\n",
       "      <th>12</th>\n",
       "      <td>first_status_time_of_day</td>\n",
       "      <td>Date</td>\n",
       "    </tr>\n",
       "    <tr>\n",
       "      <th>13</th>\n",
       "      <td>paid_date</td>\n",
       "      <td>Date</td>\n",
       "    </tr>\n",
       "    <tr>\n",
       "      <th>14</th>\n",
       "      <td>v8</td>\n",
       "      <td>Numeric</td>\n",
       "    </tr>\n",
       "    <tr>\n",
       "      <th>15</th>\n",
       "      <td>customer_id</td>\n",
       "      <td>ID</td>\n",
       "    </tr>\n",
       "    <tr>\n",
       "      <th>16</th>\n",
       "      <td>arrived_date</td>\n",
       "      <td>Date</td>\n",
       "    </tr>\n",
       "    <tr>\n",
       "      <th>17</th>\n",
       "      <td>v9</td>\n",
       "      <td>Numeric</td>\n",
       "    </tr>\n",
       "    <tr>\n",
       "      <th>18</th>\n",
       "      <td>v10</td>\n",
       "      <td>Numeric</td>\n",
       "    </tr>\n",
       "    <tr>\n",
       "      <th>19</th>\n",
       "      <td>v11</td>\n",
       "      <td>Numeric</td>\n",
       "    </tr>\n",
       "    <tr>\n",
       "      <th>20</th>\n",
       "      <td>v12</td>\n",
       "      <td>Categorical</td>\n",
       "    </tr>\n",
       "    <tr>\n",
       "      <th>21</th>\n",
       "      <td>v13</td>\n",
       "      <td>Ordinal</td>\n",
       "    </tr>\n",
       "    <tr>\n",
       "      <th>22</th>\n",
       "      <td>v14</td>\n",
       "      <td>Ordinal</td>\n",
       "    </tr>\n",
       "    <tr>\n",
       "      <th>23</th>\n",
       "      <td>v15</td>\n",
       "      <td>Numeric</td>\n",
       "    </tr>\n",
       "    <tr>\n",
       "      <th>24</th>\n",
       "      <td>v16</td>\n",
       "      <td>Numeric</td>\n",
       "    </tr>\n",
       "    <tr>\n",
       "      <th>25</th>\n",
       "      <td>v17</td>\n",
       "      <td>Numeric</td>\n",
       "    </tr>\n",
       "    <tr>\n",
       "      <th>26</th>\n",
       "      <td>v18</td>\n",
       "      <td>Numeric</td>\n",
       "    </tr>\n",
       "    <tr>\n",
       "      <th>27</th>\n",
       "      <td>v19</td>\n",
       "      <td>Numeric</td>\n",
       "    </tr>\n",
       "    <tr>\n",
       "      <th>28</th>\n",
       "      <td>v20</td>\n",
       "      <td>Numeric</td>\n",
       "    </tr>\n",
       "    <tr>\n",
       "      <th>29</th>\n",
       "      <td>v21</td>\n",
       "      <td>Numeric</td>\n",
       "    </tr>\n",
       "    <tr>\n",
       "      <th>30</th>\n",
       "      <td>v22</td>\n",
       "      <td>Numeric</td>\n",
       "    </tr>\n",
       "    <tr>\n",
       "      <th>31</th>\n",
       "      <td>v23</td>\n",
       "      <td>Numeric</td>\n",
       "    </tr>\n",
       "    <tr>\n",
       "      <th>32</th>\n",
       "      <td>v24</td>\n",
       "      <td>Numeric</td>\n",
       "    </tr>\n",
       "    <tr>\n",
       "      <th>33</th>\n",
       "      <td>v25</td>\n",
       "      <td>Numeric</td>\n",
       "    </tr>\n",
       "    <tr>\n",
       "      <th>34</th>\n",
       "      <td>v26</td>\n",
       "      <td>Numeric</td>\n",
       "    </tr>\n",
       "    <tr>\n",
       "      <th>35</th>\n",
       "      <td>v27</td>\n",
       "      <td>Numeric</td>\n",
       "    </tr>\n",
       "    <tr>\n",
       "      <th>36</th>\n",
       "      <td>v28</td>\n",
       "      <td>Numeric</td>\n",
       "    </tr>\n",
       "    <tr>\n",
       "      <th>37</th>\n",
       "      <td>v29</td>\n",
       "      <td>Numeric</td>\n",
       "    </tr>\n",
       "    <tr>\n",
       "      <th>38</th>\n",
       "      <td>v30</td>\n",
       "      <td>Numeric</td>\n",
       "    </tr>\n",
       "    <tr>\n",
       "      <th>39</th>\n",
       "      <td>v31</td>\n",
       "      <td>Numeric</td>\n",
       "    </tr>\n",
       "    <tr>\n",
       "      <th>40</th>\n",
       "      <td>v32</td>\n",
       "      <td>Numeric</td>\n",
       "    </tr>\n",
       "    <tr>\n",
       "      <th>41</th>\n",
       "      <td>v33</td>\n",
       "      <td>Numeric</td>\n",
       "    </tr>\n",
       "    <tr>\n",
       "      <th>42</th>\n",
       "      <td>v34</td>\n",
       "      <td>Numeric</td>\n",
       "    </tr>\n",
       "    <tr>\n",
       "      <th>43</th>\n",
       "      <td>v35</td>\n",
       "      <td>Numeric</td>\n",
       "    </tr>\n",
       "    <tr>\n",
       "      <th>44</th>\n",
       "      <td>v36</td>\n",
       "      <td>Numeric</td>\n",
       "    </tr>\n",
       "    <tr>\n",
       "      <th>45</th>\n",
       "      <td>v37</td>\n",
       "      <td>Numeric</td>\n",
       "    </tr>\n",
       "    <tr>\n",
       "      <th>46</th>\n",
       "      <td>v38</td>\n",
       "      <td>Numeric</td>\n",
       "    </tr>\n",
       "    <tr>\n",
       "      <th>47</th>\n",
       "      <td>v39</td>\n",
       "      <td>Numeric</td>\n",
       "    </tr>\n",
       "    <tr>\n",
       "      <th>48</th>\n",
       "      <td>v40</td>\n",
       "      <td>Numeric</td>\n",
       "    </tr>\n",
       "    <tr>\n",
       "      <th>49</th>\n",
       "      <td>v41</td>\n",
       "      <td>Numeric</td>\n",
       "    </tr>\n",
       "    <tr>\n",
       "      <th>50</th>\n",
       "      <td>v42</td>\n",
       "      <td>Date</td>\n",
       "    </tr>\n",
       "    <tr>\n",
       "      <th>51</th>\n",
       "      <td>v43</td>\n",
       "      <td>Date</td>\n",
       "    </tr>\n",
       "    <tr>\n",
       "      <th>52</th>\n",
       "      <td>v44</td>\n",
       "      <td>Date</td>\n",
       "    </tr>\n",
       "    <tr>\n",
       "      <th>53</th>\n",
       "      <td>v45</td>\n",
       "      <td>Categorical</td>\n",
       "    </tr>\n",
       "    <tr>\n",
       "      <th>54</th>\n",
       "      <td>Target</td>\n",
       "      <td>Binary</td>\n",
       "    </tr>\n",
       "  </tbody>\n",
       "</table>\n",
       "</div>"
      ],
      "text/plain": [
       "                   Test_Name         Type\n",
       "0                 country_id           ID\n",
       "1             application_id           ID\n",
       "2                 product_id           ID\n",
       "3                         v1      Numeric\n",
       "4                         v2      Numeric\n",
       "5                         v3      Numeric\n",
       "6                         v4      Numeric\n",
       "7                         v5  Categorical\n",
       "8                         v6  Categorical\n",
       "9                         v7      Numeric\n",
       "10                  due_date         Date\n",
       "11     first_status_day_date         Date\n",
       "12  first_status_time_of_day         Date\n",
       "13                 paid_date         Date\n",
       "14                        v8      Numeric\n",
       "15               customer_id           ID\n",
       "16              arrived_date         Date\n",
       "17                        v9      Numeric\n",
       "18                       v10      Numeric\n",
       "19                       v11      Numeric\n",
       "20                       v12  Categorical\n",
       "21                       v13      Ordinal\n",
       "22                       v14      Ordinal\n",
       "23                       v15      Numeric\n",
       "24                       v16      Numeric\n",
       "25                       v17      Numeric\n",
       "26                       v18      Numeric\n",
       "27                       v19      Numeric\n",
       "28                       v20      Numeric\n",
       "29                       v21      Numeric\n",
       "30                       v22      Numeric\n",
       "31                       v23      Numeric\n",
       "32                       v24      Numeric\n",
       "33                       v25      Numeric\n",
       "34                       v26      Numeric\n",
       "35                       v27      Numeric\n",
       "36                       v28      Numeric\n",
       "37                       v29      Numeric\n",
       "38                       v30      Numeric\n",
       "39                       v31      Numeric\n",
       "40                       v32      Numeric\n",
       "41                       v33      Numeric\n",
       "42                       v34      Numeric\n",
       "43                       v35      Numeric\n",
       "44                       v36      Numeric\n",
       "45                       v37      Numeric\n",
       "46                       v38      Numeric\n",
       "47                       v39      Numeric\n",
       "48                       v40      Numeric\n",
       "49                       v41      Numeric\n",
       "50                       v42         Date\n",
       "51                       v43         Date\n",
       "52                       v44         Date\n",
       "53                       v45  Categorical\n",
       "54                    Target       Binary"
      ]
     },
     "execution_count": 8,
     "metadata": {},
     "output_type": "execute_result"
    }
   ],
   "source": [
    "variabletypes"
   ]
  },
  {
   "cell_type": "markdown",
   "metadata": {},
   "source": [
    "Ordinal is like categoricals but with order. "
   ]
  },
  {
   "cell_type": "markdown",
   "metadata": {},
   "source": [
    "# Rename"
   ]
  },
  {
   "cell_type": "code",
   "execution_count": 9,
   "metadata": {},
   "outputs": [],
   "source": [
    "# rename for quicker typing\n",
    "df.columns = df.columns.str.replace('Variable_', 'v')\n",
    "variabletypes.columns = variabletypes.columns.str.replace('Variable_', 'v')\n",
    "df.rename(columns = {'Target':'y'}, inplace = True)"
   ]
  },
  {
   "cell_type": "markdown",
   "metadata": {},
   "source": [
    "# Target variable and .head"
   ]
  },
  {
   "cell_type": "code",
   "execution_count": 10,
   "metadata": {},
   "outputs": [
    {
     "data": {
      "text/plain": [
       "0.6922702965483715"
      ]
     },
     "execution_count": 10,
     "metadata": {},
     "output_type": "execute_result"
    }
   ],
   "source": [
    "df.y.mean()"
   ]
  },
  {
   "cell_type": "markdown",
   "metadata": {},
   "source": [
    "We guess this variable indicates whether a customer pays back the loan. "
   ]
  },
  {
   "cell_type": "code",
   "execution_count": 11,
   "metadata": {},
   "outputs": [
    {
     "data": {
      "text/html": [
       "<div>\n",
       "<style>\n",
       "    .dataframe thead tr:only-child th {\n",
       "        text-align: right;\n",
       "    }\n",
       "\n",
       "    .dataframe thead th {\n",
       "        text-align: left;\n",
       "    }\n",
       "\n",
       "    .dataframe tbody tr th {\n",
       "        vertical-align: top;\n",
       "    }\n",
       "</style>\n",
       "<table border=\"1\" class=\"dataframe\">\n",
       "  <thead>\n",
       "    <tr style=\"text-align: right;\">\n",
       "      <th></th>\n",
       "      <th>0</th>\n",
       "      <th>1</th>\n",
       "      <th>2</th>\n",
       "      <th>3</th>\n",
       "      <th>4</th>\n",
       "    </tr>\n",
       "  </thead>\n",
       "  <tbody>\n",
       "    <tr>\n",
       "      <th>country_id</th>\n",
       "      <td>21</td>\n",
       "      <td>21</td>\n",
       "      <td>21</td>\n",
       "      <td>21</td>\n",
       "      <td>21</td>\n",
       "    </tr>\n",
       "    <tr>\n",
       "      <th>application_id</th>\n",
       "      <td>24176</td>\n",
       "      <td>24185</td>\n",
       "      <td>24215</td>\n",
       "      <td>24220</td>\n",
       "      <td>24255</td>\n",
       "    </tr>\n",
       "    <tr>\n",
       "      <th>product_id</th>\n",
       "      <td>21210001</td>\n",
       "      <td>21210001</td>\n",
       "      <td>21210001</td>\n",
       "      <td>21210001</td>\n",
       "      <td>21210001</td>\n",
       "    </tr>\n",
       "    <tr>\n",
       "      <th>v1</th>\n",
       "      <td>35</td>\n",
       "      <td>30</td>\n",
       "      <td>30</td>\n",
       "      <td>30</td>\n",
       "      <td>30</td>\n",
       "    </tr>\n",
       "    <tr>\n",
       "      <th>v2</th>\n",
       "      <td>1</td>\n",
       "      <td>1</td>\n",
       "      <td>1</td>\n",
       "      <td>1</td>\n",
       "      <td>2</td>\n",
       "    </tr>\n",
       "    <tr>\n",
       "      <th>v3</th>\n",
       "      <td>1</td>\n",
       "      <td>1</td>\n",
       "      <td>1</td>\n",
       "      <td>1</td>\n",
       "      <td>1</td>\n",
       "    </tr>\n",
       "    <tr>\n",
       "      <th>v4</th>\n",
       "      <td>1</td>\n",
       "      <td>1</td>\n",
       "      <td>1</td>\n",
       "      <td>1</td>\n",
       "      <td>1</td>\n",
       "    </tr>\n",
       "    <tr>\n",
       "      <th>v5</th>\n",
       "      <td>N</td>\n",
       "      <td>N</td>\n",
       "      <td>N</td>\n",
       "      <td>N</td>\n",
       "      <td>N</td>\n",
       "    </tr>\n",
       "    <tr>\n",
       "      <th>v6</th>\n",
       "      <td>72</td>\n",
       "      <td>25</td>\n",
       "      <td>65</td>\n",
       "      <td>65</td>\n",
       "      <td>4</td>\n",
       "    </tr>\n",
       "    <tr>\n",
       "      <th>v7</th>\n",
       "      <td>27</td>\n",
       "      <td>26</td>\n",
       "      <td>21</td>\n",
       "      <td>48</td>\n",
       "      <td>28</td>\n",
       "    </tr>\n",
       "    <tr>\n",
       "      <th>due_date</th>\n",
       "      <td>07/07/2015</td>\n",
       "      <td>02/07/2015</td>\n",
       "      <td>02/07/2015</td>\n",
       "      <td>17/07/2015</td>\n",
       "      <td>02/07/2015</td>\n",
       "    </tr>\n",
       "    <tr>\n",
       "      <th>first_status_day_date</th>\n",
       "      <td>01/06/2015</td>\n",
       "      <td>01/06/2015</td>\n",
       "      <td>01/06/2015</td>\n",
       "      <td>01/06/2015</td>\n",
       "      <td>01/06/2015</td>\n",
       "    </tr>\n",
       "    <tr>\n",
       "      <th>first_status_time_of_day</th>\n",
       "      <td>00:43:22</td>\n",
       "      <td>07:56:36</td>\n",
       "      <td>11:02:04</td>\n",
       "      <td>11:22:37</td>\n",
       "      <td>15:27:18</td>\n",
       "    </tr>\n",
       "    <tr>\n",
       "      <th>paid_date</th>\n",
       "      <td>02/06/2015</td>\n",
       "      <td>02/06/2015</td>\n",
       "      <td>02/06/2015</td>\n",
       "      <td>17/06/2015</td>\n",
       "      <td>02/06/2015</td>\n",
       "    </tr>\n",
       "    <tr>\n",
       "      <th>v8</th>\n",
       "      <td>100</td>\n",
       "      <td>199</td>\n",
       "      <td>100</td>\n",
       "      <td>199</td>\n",
       "      <td>199</td>\n",
       "    </tr>\n",
       "    <tr>\n",
       "      <th>customer_id</th>\n",
       "      <td>2970192</td>\n",
       "      <td>2970195</td>\n",
       "      <td>2970204</td>\n",
       "      <td>2970206</td>\n",
       "      <td>2430110</td>\n",
       "    </tr>\n",
       "    <tr>\n",
       "      <th>arrived_date</th>\n",
       "      <td>01/06/2015 00:43</td>\n",
       "      <td>01/06/2015 07:56</td>\n",
       "      <td>01/06/2015 11:02</td>\n",
       "      <td>01/06/2015 11:22</td>\n",
       "      <td>01/06/2015 15:27</td>\n",
       "    </tr>\n",
       "    <tr>\n",
       "      <th>v9</th>\n",
       "      <td>190</td>\n",
       "      <td>199</td>\n",
       "      <td>100</td>\n",
       "      <td>199</td>\n",
       "      <td>600</td>\n",
       "    </tr>\n",
       "    <tr>\n",
       "      <th>v10</th>\n",
       "      <td>100</td>\n",
       "      <td>199</td>\n",
       "      <td>100</td>\n",
       "      <td>199</td>\n",
       "      <td>199</td>\n",
       "    </tr>\n",
       "    <tr>\n",
       "      <th>v11</th>\n",
       "      <td>100</td>\n",
       "      <td>199</td>\n",
       "      <td>100</td>\n",
       "      <td>199</td>\n",
       "      <td>199</td>\n",
       "    </tr>\n",
       "    <tr>\n",
       "      <th>v12</th>\n",
       "      <td>15</td>\n",
       "      <td>15</td>\n",
       "      <td>15</td>\n",
       "      <td>15</td>\n",
       "      <td>15</td>\n",
       "    </tr>\n",
       "    <tr>\n",
       "      <th>v13</th>\n",
       "      <td>M</td>\n",
       "      <td>M</td>\n",
       "      <td>G</td>\n",
       "      <td>D</td>\n",
       "      <td>NaN</td>\n",
       "    </tr>\n",
       "    <tr>\n",
       "      <th>v14</th>\n",
       "      <td>RATINGSTUFE M</td>\n",
       "      <td>RATINGSTUFE M</td>\n",
       "      <td>RATINGSTUFE G</td>\n",
       "      <td>RATINGSTUFE D</td>\n",
       "      <td>NaN</td>\n",
       "    </tr>\n",
       "    <tr>\n",
       "      <th>v15</th>\n",
       "      <td>0</td>\n",
       "      <td>4</td>\n",
       "      <td>1</td>\n",
       "      <td>0</td>\n",
       "      <td>NaN</td>\n",
       "    </tr>\n",
       "    <tr>\n",
       "      <th>v16</th>\n",
       "      <td>0</td>\n",
       "      <td>1</td>\n",
       "      <td>2</td>\n",
       "      <td>0</td>\n",
       "      <td>NaN</td>\n",
       "    </tr>\n",
       "    <tr>\n",
       "      <th>v17</th>\n",
       "      <td>0</td>\n",
       "      <td>0</td>\n",
       "      <td>0</td>\n",
       "      <td>0</td>\n",
       "      <td>NaN</td>\n",
       "    </tr>\n",
       "    <tr>\n",
       "      <th>v18</th>\n",
       "      <td>0</td>\n",
       "      <td>0</td>\n",
       "      <td>0</td>\n",
       "      <td>0</td>\n",
       "      <td>NaN</td>\n",
       "    </tr>\n",
       "    <tr>\n",
       "      <th>v19</th>\n",
       "      <td>1</td>\n",
       "      <td>0</td>\n",
       "      <td>0</td>\n",
       "      <td>0</td>\n",
       "      <td>NaN</td>\n",
       "    </tr>\n",
       "    <tr>\n",
       "      <th>v20</th>\n",
       "      <td>NaN</td>\n",
       "      <td>25000</td>\n",
       "      <td>499</td>\n",
       "      <td>NaN</td>\n",
       "      <td>NaN</td>\n",
       "    </tr>\n",
       "    <tr>\n",
       "      <th>v21</th>\n",
       "      <td>NaN</td>\n",
       "      <td>NaN</td>\n",
       "      <td>NaN</td>\n",
       "      <td>NaN</td>\n",
       "      <td>NaN</td>\n",
       "    </tr>\n",
       "    <tr>\n",
       "      <th>v22</th>\n",
       "      <td>NaN</td>\n",
       "      <td>100</td>\n",
       "      <td>200</td>\n",
       "      <td>NaN</td>\n",
       "      <td>NaN</td>\n",
       "    </tr>\n",
       "    <tr>\n",
       "      <th>v23</th>\n",
       "      <td>1</td>\n",
       "      <td>0</td>\n",
       "      <td>0</td>\n",
       "      <td>0</td>\n",
       "      <td>NaN</td>\n",
       "    </tr>\n",
       "    <tr>\n",
       "      <th>v24</th>\n",
       "      <td>0</td>\n",
       "      <td>0</td>\n",
       "      <td>0</td>\n",
       "      <td>0</td>\n",
       "      <td>NaN</td>\n",
       "    </tr>\n",
       "    <tr>\n",
       "      <th>v25</th>\n",
       "      <td>0</td>\n",
       "      <td>0</td>\n",
       "      <td>0</td>\n",
       "      <td>0</td>\n",
       "      <td>NaN</td>\n",
       "    </tr>\n",
       "    <tr>\n",
       "      <th>v26</th>\n",
       "      <td>0</td>\n",
       "      <td>0</td>\n",
       "      <td>0</td>\n",
       "      <td>0</td>\n",
       "      <td>NaN</td>\n",
       "    </tr>\n",
       "    <tr>\n",
       "      <th>v27</th>\n",
       "      <td>1</td>\n",
       "      <td>4</td>\n",
       "      <td>0</td>\n",
       "      <td>0</td>\n",
       "      <td>NaN</td>\n",
       "    </tr>\n",
       "    <tr>\n",
       "      <th>v28</th>\n",
       "      <td>0</td>\n",
       "      <td>0</td>\n",
       "      <td>0</td>\n",
       "      <td>0</td>\n",
       "      <td>NaN</td>\n",
       "    </tr>\n",
       "    <tr>\n",
       "      <th>v29</th>\n",
       "      <td>0</td>\n",
       "      <td>0</td>\n",
       "      <td>0</td>\n",
       "      <td>0</td>\n",
       "      <td>NaN</td>\n",
       "    </tr>\n",
       "    <tr>\n",
       "      <th>v30</th>\n",
       "      <td>0</td>\n",
       "      <td>0</td>\n",
       "      <td>0</td>\n",
       "      <td>0</td>\n",
       "      <td>NaN</td>\n",
       "    </tr>\n",
       "    <tr>\n",
       "      <th>v31</th>\n",
       "      <td>0</td>\n",
       "      <td>0</td>\n",
       "      <td>0</td>\n",
       "      <td>0</td>\n",
       "      <td>NaN</td>\n",
       "    </tr>\n",
       "    <tr>\n",
       "      <th>v32</th>\n",
       "      <td>0</td>\n",
       "      <td>0</td>\n",
       "      <td>0</td>\n",
       "      <td>0</td>\n",
       "      <td>NaN</td>\n",
       "    </tr>\n",
       "    <tr>\n",
       "      <th>v33</th>\n",
       "      <td>0</td>\n",
       "      <td>0</td>\n",
       "      <td>0</td>\n",
       "      <td>0</td>\n",
       "      <td>NaN</td>\n",
       "    </tr>\n",
       "    <tr>\n",
       "      <th>v34</th>\n",
       "      <td>0</td>\n",
       "      <td>0</td>\n",
       "      <td>0</td>\n",
       "      <td>0</td>\n",
       "      <td>NaN</td>\n",
       "    </tr>\n",
       "    <tr>\n",
       "      <th>v35</th>\n",
       "      <td>0</td>\n",
       "      <td>0</td>\n",
       "      <td>0</td>\n",
       "      <td>0</td>\n",
       "      <td>NaN</td>\n",
       "    </tr>\n",
       "    <tr>\n",
       "      <th>v36</th>\n",
       "      <td>0</td>\n",
       "      <td>0</td>\n",
       "      <td>0</td>\n",
       "      <td>0</td>\n",
       "      <td>NaN</td>\n",
       "    </tr>\n",
       "    <tr>\n",
       "      <th>v37</th>\n",
       "      <td>NaN</td>\n",
       "      <td>40147</td>\n",
       "      <td>499</td>\n",
       "      <td>NaN</td>\n",
       "      <td>NaN</td>\n",
       "    </tr>\n",
       "    <tr>\n",
       "      <th>v38</th>\n",
       "      <td>NaN</td>\n",
       "      <td>NaN</td>\n",
       "      <td>NaN</td>\n",
       "      <td>NaN</td>\n",
       "      <td>NaN</td>\n",
       "    </tr>\n",
       "    <tr>\n",
       "      <th>v39</th>\n",
       "      <td>NaN</td>\n",
       "      <td>100</td>\n",
       "      <td>300</td>\n",
       "      <td>NaN</td>\n",
       "      <td>NaN</td>\n",
       "    </tr>\n",
       "    <tr>\n",
       "      <th>v40</th>\n",
       "      <td>0</td>\n",
       "      <td>0</td>\n",
       "      <td>0</td>\n",
       "      <td>0</td>\n",
       "      <td>NaN</td>\n",
       "    </tr>\n",
       "    <tr>\n",
       "      <th>v41</th>\n",
       "      <td>0</td>\n",
       "      <td>0</td>\n",
       "      <td>0</td>\n",
       "      <td>0</td>\n",
       "      <td>NaN</td>\n",
       "    </tr>\n",
       "    <tr>\n",
       "      <th>v42</th>\n",
       "      <td>NaN</td>\n",
       "      <td>NaN</td>\n",
       "      <td>NaN</td>\n",
       "      <td>NaN</td>\n",
       "      <td>NaN</td>\n",
       "    </tr>\n",
       "    <tr>\n",
       "      <th>v43</th>\n",
       "      <td>NaN</td>\n",
       "      <td>NaN</td>\n",
       "      <td>NaN</td>\n",
       "      <td>NaN</td>\n",
       "      <td>NaN</td>\n",
       "    </tr>\n",
       "    <tr>\n",
       "      <th>v44</th>\n",
       "      <td>14/06/2013</td>\n",
       "      <td>NaN</td>\n",
       "      <td>NaN</td>\n",
       "      <td>NaN</td>\n",
       "      <td>NaN</td>\n",
       "    </tr>\n",
       "    <tr>\n",
       "      <th>v45</th>\n",
       "      <td>F</td>\n",
       "      <td>M</td>\n",
       "      <td>F</td>\n",
       "      <td>F</td>\n",
       "      <td>F</td>\n",
       "    </tr>\n",
       "    <tr>\n",
       "      <th>y</th>\n",
       "      <td>1</td>\n",
       "      <td>1</td>\n",
       "      <td>0</td>\n",
       "      <td>1</td>\n",
       "      <td>1</td>\n",
       "    </tr>\n",
       "  </tbody>\n",
       "</table>\n",
       "</div>"
      ],
      "text/plain": [
       "                                         0                 1  \\\n",
       "country_id                              21                21   \n",
       "application_id                       24176             24185   \n",
       "product_id                        21210001          21210001   \n",
       "v1                                      35                30   \n",
       "v2                                       1                 1   \n",
       "v3                                       1                 1   \n",
       "v4                                       1                 1   \n",
       "v5                                       N                 N   \n",
       "v6                                      72                25   \n",
       "v7                                      27                26   \n",
       "due_date                        07/07/2015        02/07/2015   \n",
       "first_status_day_date           01/06/2015        01/06/2015   \n",
       "first_status_time_of_day          00:43:22          07:56:36   \n",
       "paid_date                       02/06/2015        02/06/2015   \n",
       "v8                                     100               199   \n",
       "customer_id                        2970192           2970195   \n",
       "arrived_date              01/06/2015 00:43  01/06/2015 07:56   \n",
       "v9                                     190               199   \n",
       "v10                                    100               199   \n",
       "v11                                    100               199   \n",
       "v12                                     15                15   \n",
       "v13                                      M                 M   \n",
       "v14                          RATINGSTUFE M     RATINGSTUFE M   \n",
       "v15                                      0                 4   \n",
       "v16                                      0                 1   \n",
       "v17                                      0                 0   \n",
       "v18                                      0                 0   \n",
       "v19                                      1                 0   \n",
       "v20                                    NaN             25000   \n",
       "v21                                    NaN               NaN   \n",
       "v22                                    NaN               100   \n",
       "v23                                      1                 0   \n",
       "v24                                      0                 0   \n",
       "v25                                      0                 0   \n",
       "v26                                      0                 0   \n",
       "v27                                      1                 4   \n",
       "v28                                      0                 0   \n",
       "v29                                      0                 0   \n",
       "v30                                      0                 0   \n",
       "v31                                      0                 0   \n",
       "v32                                      0                 0   \n",
       "v33                                      0                 0   \n",
       "v34                                      0                 0   \n",
       "v35                                      0                 0   \n",
       "v36                                      0                 0   \n",
       "v37                                    NaN             40147   \n",
       "v38                                    NaN               NaN   \n",
       "v39                                    NaN               100   \n",
       "v40                                      0                 0   \n",
       "v41                                      0                 0   \n",
       "v42                                    NaN               NaN   \n",
       "v43                                    NaN               NaN   \n",
       "v44                             14/06/2013               NaN   \n",
       "v45                                      F                 M   \n",
       "y                                        1                 1   \n",
       "\n",
       "                                         2                 3                 4  \n",
       "country_id                              21                21                21  \n",
       "application_id                       24215             24220             24255  \n",
       "product_id                        21210001          21210001          21210001  \n",
       "v1                                      30                30                30  \n",
       "v2                                       1                 1                 2  \n",
       "v3                                       1                 1                 1  \n",
       "v4                                       1                 1                 1  \n",
       "v5                                       N                 N                 N  \n",
       "v6                                      65                65                 4  \n",
       "v7                                      21                48                28  \n",
       "due_date                        02/07/2015        17/07/2015        02/07/2015  \n",
       "first_status_day_date           01/06/2015        01/06/2015        01/06/2015  \n",
       "first_status_time_of_day          11:02:04          11:22:37          15:27:18  \n",
       "paid_date                       02/06/2015        17/06/2015        02/06/2015  \n",
       "v8                                     100               199               199  \n",
       "customer_id                        2970204           2970206           2430110  \n",
       "arrived_date              01/06/2015 11:02  01/06/2015 11:22  01/06/2015 15:27  \n",
       "v9                                     100               199               600  \n",
       "v10                                    100               199               199  \n",
       "v11                                    100               199               199  \n",
       "v12                                     15                15                15  \n",
       "v13                                      G                 D               NaN  \n",
       "v14                          RATINGSTUFE G     RATINGSTUFE D               NaN  \n",
       "v15                                      1                 0               NaN  \n",
       "v16                                      2                 0               NaN  \n",
       "v17                                      0                 0               NaN  \n",
       "v18                                      0                 0               NaN  \n",
       "v19                                      0                 0               NaN  \n",
       "v20                                    499               NaN               NaN  \n",
       "v21                                    NaN               NaN               NaN  \n",
       "v22                                    200               NaN               NaN  \n",
       "v23                                      0                 0               NaN  \n",
       "v24                                      0                 0               NaN  \n",
       "v25                                      0                 0               NaN  \n",
       "v26                                      0                 0               NaN  \n",
       "v27                                      0                 0               NaN  \n",
       "v28                                      0                 0               NaN  \n",
       "v29                                      0                 0               NaN  \n",
       "v30                                      0                 0               NaN  \n",
       "v31                                      0                 0               NaN  \n",
       "v32                                      0                 0               NaN  \n",
       "v33                                      0                 0               NaN  \n",
       "v34                                      0                 0               NaN  \n",
       "v35                                      0                 0               NaN  \n",
       "v36                                      0                 0               NaN  \n",
       "v37                                    499               NaN               NaN  \n",
       "v38                                    NaN               NaN               NaN  \n",
       "v39                                    300               NaN               NaN  \n",
       "v40                                      0                 0               NaN  \n",
       "v41                                      0                 0               NaN  \n",
       "v42                                    NaN               NaN               NaN  \n",
       "v43                                    NaN               NaN               NaN  \n",
       "v44                                    NaN               NaN               NaN  \n",
       "v45                                      F                 F                 F  \n",
       "y                                        0                 1                 1  "
      ]
     },
     "execution_count": 11,
     "metadata": {},
     "output_type": "execute_result"
    }
   ],
   "source": [
    "df.head().T"
   ]
  },
  {
   "cell_type": "markdown",
   "metadata": {},
   "source": [
    "Based on the output above: \n",
    "\n",
    "- Remove variables with only 1 unique value are removed, as they won't be predictive. (Later, in the feature selection, we might remove cols with low variance.)\n",
    "- Recode v45 into Male \n",
    "- v5 is a boolean\n",
    "- arrived_date contains date & time - split it up \n",
    "- v14 must be recoded"
   ]
  },
  {
   "cell_type": "code",
   "execution_count": 12,
   "metadata": {},
   "outputs": [],
   "source": [
    "# Remove zero variance variabels\n",
    "cols_novariance = df.columns[df.apply(lambda x: x.nunique() == 1).values]\n",
    "df.drop(cols_novariance, inplace = True, axis = 1)"
   ]
  },
  {
   "cell_type": "code",
   "execution_count": 13,
   "metadata": {},
   "outputs": [],
   "source": [
    "# v10 v11 are the same. saw in .describe \n",
    "assert (df.v10 == df.v11).all()\n",
    "df.drop('v11', inplace = True, axis = 1)"
   ]
  },
  {
   "cell_type": "code",
   "execution_count": 14,
   "metadata": {},
   "outputs": [],
   "source": [
    "df.v45.unique() # see that this must be recoded\n",
    "df.loc[df.v45 == 'M', 'v45'] = 1\n",
    "df.loc[df.v45 == 'F', 'v45'] = 0\n",
    "df.loc[df.v45 == '?', 'v45'] = np.nan"
   ]
  },
  {
   "cell_type": "code",
   "execution_count": 15,
   "metadata": {},
   "outputs": [
    {
     "data": {
      "text/plain": [
       "v20    0.427683\n",
       "v37    0.427683\n",
       "v22    0.683126\n",
       "v39    0.683126\n",
       "v21    0.773717\n",
       "v38    0.773717\n",
       "v44    0.921851\n",
       "v43    0.942457\n",
       "v42    0.957621\n",
       "dtype: float64"
      ]
     },
     "execution_count": 15,
     "metadata": {},
     "output_type": "execute_result"
    }
   ],
   "source": [
    "# cols with NA count > 40%\n",
    "cols_manyna = df.isnull().mean().sort_values().tail(9).index\n",
    "df.isnull().mean().sort_values().tail(9)"
   ]
  },
  {
   "cell_type": "markdown",
   "metadata": {},
   "source": [
    "There is a clear \"elbow\" at 9 values since the 10th value has only 7% NA whereas the 9th value has 42 NA. "
   ]
  },
  {
   "cell_type": "code",
   "execution_count": 16,
   "metadata": {},
   "outputs": [],
   "source": [
    "df.drop(cols_manyna, inplace = True, axis = 1) "
   ]
  },
  {
   "cell_type": "markdown",
   "metadata": {},
   "source": [
    "roc_auc increase when cols are dropped"
   ]
  },
  {
   "cell_type": "markdown",
   "metadata": {},
   "source": [
    "# Correct dtype"
   ]
  },
  {
   "cell_type": "code",
   "execution_count": 17,
   "metadata": {
    "collapsed": true
   },
   "outputs": [],
   "source": [
    "# save cols with different dtypes (must intersect with df.columns because some are dropped)\n",
    "cols_cat = list(set(variabletypes[variabletypes.Type == 'Categorical'].Test_Name) & set(df.columns))\n",
    "cols_cato = list(set(variabletypes[variabletypes.Type == 'Ordinal'].Test_Name) & set(df.columns))\n",
    "cols_num = list(set(variabletypes[variabletypes.Type == 'Numeric'].Test_Name) & set(df.columns))\n",
    "cols_datetime = list(set(variabletypes[variabletypes.Type == 'Date'].Test_Name) & set(df.columns))\n",
    "cols_id = list(set(variabletypes[variabletypes.Type == 'ID'].Test_Name) & set(df.columns))"
   ]
  },
  {
   "cell_type": "markdown",
   "metadata": {},
   "source": [
    "# Date columns"
   ]
  },
  {
   "cell_type": "code",
   "execution_count": 18,
   "metadata": {},
   "outputs": [
    {
     "data": {
      "text/html": [
       "<div>\n",
       "<style>\n",
       "    .dataframe thead tr:only-child th {\n",
       "        text-align: right;\n",
       "    }\n",
       "\n",
       "    .dataframe thead th {\n",
       "        text-align: left;\n",
       "    }\n",
       "\n",
       "    .dataframe tbody tr th {\n",
       "        vertical-align: top;\n",
       "    }\n",
       "</style>\n",
       "<table border=\"1\" class=\"dataframe\">\n",
       "  <thead>\n",
       "    <tr style=\"text-align: right;\">\n",
       "      <th></th>\n",
       "      <th>paid_date</th>\n",
       "      <th>due_date</th>\n",
       "      <th>first_status_day_date</th>\n",
       "      <th>arrived_date</th>\n",
       "      <th>first_status_time_of_day</th>\n",
       "    </tr>\n",
       "  </thead>\n",
       "  <tbody>\n",
       "    <tr>\n",
       "      <th>0</th>\n",
       "      <td>02/06/2015</td>\n",
       "      <td>07/07/2015</td>\n",
       "      <td>01/06/2015</td>\n",
       "      <td>01/06/2015 00:43</td>\n",
       "      <td>00:43:22</td>\n",
       "    </tr>\n",
       "    <tr>\n",
       "      <th>1</th>\n",
       "      <td>02/06/2015</td>\n",
       "      <td>02/07/2015</td>\n",
       "      <td>01/06/2015</td>\n",
       "      <td>01/06/2015 07:56</td>\n",
       "      <td>07:56:36</td>\n",
       "    </tr>\n",
       "    <tr>\n",
       "      <th>2</th>\n",
       "      <td>02/06/2015</td>\n",
       "      <td>02/07/2015</td>\n",
       "      <td>01/06/2015</td>\n",
       "      <td>01/06/2015 11:02</td>\n",
       "      <td>11:02:04</td>\n",
       "    </tr>\n",
       "    <tr>\n",
       "      <th>3</th>\n",
       "      <td>17/06/2015</td>\n",
       "      <td>17/07/2015</td>\n",
       "      <td>01/06/2015</td>\n",
       "      <td>01/06/2015 11:22</td>\n",
       "      <td>11:22:37</td>\n",
       "    </tr>\n",
       "    <tr>\n",
       "      <th>4</th>\n",
       "      <td>02/06/2015</td>\n",
       "      <td>02/07/2015</td>\n",
       "      <td>01/06/2015</td>\n",
       "      <td>01/06/2015 15:27</td>\n",
       "      <td>15:27:18</td>\n",
       "    </tr>\n",
       "  </tbody>\n",
       "</table>\n",
       "</div>"
      ],
      "text/plain": [
       "    paid_date    due_date first_status_day_date      arrived_date  \\\n",
       "0  02/06/2015  07/07/2015            01/06/2015  01/06/2015 00:43   \n",
       "1  02/06/2015  02/07/2015            01/06/2015  01/06/2015 07:56   \n",
       "2  02/06/2015  02/07/2015            01/06/2015  01/06/2015 11:02   \n",
       "3  17/06/2015  17/07/2015            01/06/2015  01/06/2015 11:22   \n",
       "4  02/06/2015  02/07/2015            01/06/2015  01/06/2015 15:27   \n",
       "\n",
       "  first_status_time_of_day  \n",
       "0                 00:43:22  \n",
       "1                 07:56:36  \n",
       "2                 11:02:04  \n",
       "3                 11:22:37  \n",
       "4                 15:27:18  "
      ]
     },
     "execution_count": 18,
     "metadata": {},
     "output_type": "execute_result"
    }
   ],
   "source": [
    "# convert to correct time (see other project and sNotes for attempt at generalizing the approach . qqe2)\n",
    "df[cols_datetime].head()"
   ]
  },
  {
   "cell_type": "code",
   "execution_count": 19,
   "metadata": {
    "collapsed": true
   },
   "outputs": [],
   "source": [
    "cols_time = ['arrived_time_of_day', 'first_status_time_of_day']\n",
    "cols_date = ['paid_date', 'arrived_date', 'due_date', 'first_status_day_date']"
   ]
  },
  {
   "cell_type": "code",
   "execution_count": 20,
   "metadata": {},
   "outputs": [],
   "source": [
    "# convert date cols to proper dates\n",
    "df[cols_date] = df[cols_date].apply(lambda x: pd.to_datetime(x))"
   ]
  },
  {
   "cell_type": "code",
   "execution_count": 21,
   "metadata": {},
   "outputs": [],
   "source": [
    "# separate date and time to two cols \n",
    "df['arrived_time_of_day'] = pd.DatetimeIndex(df['arrived_date']).time\n",
    "df['arrived_date'] = pd.DatetimeIndex(df['arrived_date']).date\n",
    "df['arrived_date'] = pd.to_datetime(df['arrived_date'])"
   ]
  },
  {
   "cell_type": "code",
   "execution_count": 22,
   "metadata": {},
   "outputs": [
    {
     "data": {
      "text/plain": [
       "paid_date                datetime64[ns]\n",
       "arrived_date             datetime64[ns]\n",
       "due_date                 datetime64[ns]\n",
       "first_status_day_date    datetime64[ns]\n",
       "dtype: object"
      ]
     },
     "execution_count": 22,
     "metadata": {},
     "output_type": "execute_result"
    }
   ],
   "source": [
    "df[cols_date].dtypes"
   ]
  },
  {
   "cell_type": "code",
   "execution_count": 23,
   "metadata": {},
   "outputs": [
    {
     "data": {
      "text/html": [
       "<div>\n",
       "<style>\n",
       "    .dataframe thead tr:only-child th {\n",
       "        text-align: right;\n",
       "    }\n",
       "\n",
       "    .dataframe thead th {\n",
       "        text-align: left;\n",
       "    }\n",
       "\n",
       "    .dataframe tbody tr th {\n",
       "        vertical-align: top;\n",
       "    }\n",
       "</style>\n",
       "<table border=\"1\" class=\"dataframe\">\n",
       "  <thead>\n",
       "    <tr style=\"text-align: right;\">\n",
       "      <th></th>\n",
       "      <th>paid_date</th>\n",
       "      <th>arrived_date</th>\n",
       "      <th>due_date</th>\n",
       "      <th>first_status_day_date</th>\n",
       "    </tr>\n",
       "  </thead>\n",
       "  <tbody>\n",
       "    <tr>\n",
       "      <th>0</th>\n",
       "      <td>2015-02-06</td>\n",
       "      <td>2015-01-06</td>\n",
       "      <td>2015-07-07</td>\n",
       "      <td>2015-01-06</td>\n",
       "    </tr>\n",
       "    <tr>\n",
       "      <th>1</th>\n",
       "      <td>2015-02-06</td>\n",
       "      <td>2015-01-06</td>\n",
       "      <td>2015-02-07</td>\n",
       "      <td>2015-01-06</td>\n",
       "    </tr>\n",
       "    <tr>\n",
       "      <th>2</th>\n",
       "      <td>2015-02-06</td>\n",
       "      <td>2015-01-06</td>\n",
       "      <td>2015-02-07</td>\n",
       "      <td>2015-01-06</td>\n",
       "    </tr>\n",
       "    <tr>\n",
       "      <th>3</th>\n",
       "      <td>2015-06-17</td>\n",
       "      <td>2015-01-06</td>\n",
       "      <td>2015-07-17</td>\n",
       "      <td>2015-01-06</td>\n",
       "    </tr>\n",
       "    <tr>\n",
       "      <th>4</th>\n",
       "      <td>2015-02-06</td>\n",
       "      <td>2015-01-06</td>\n",
       "      <td>2015-02-07</td>\n",
       "      <td>2015-01-06</td>\n",
       "    </tr>\n",
       "  </tbody>\n",
       "</table>\n",
       "</div>"
      ],
      "text/plain": [
       "   paid_date arrived_date   due_date first_status_day_date\n",
       "0 2015-02-06   2015-01-06 2015-07-07            2015-01-06\n",
       "1 2015-02-06   2015-01-06 2015-02-07            2015-01-06\n",
       "2 2015-02-06   2015-01-06 2015-02-07            2015-01-06\n",
       "3 2015-06-17   2015-01-06 2015-07-17            2015-01-06\n",
       "4 2015-02-06   2015-01-06 2015-02-07            2015-01-06"
      ]
     },
     "execution_count": 23,
     "metadata": {},
     "output_type": "execute_result"
    }
   ],
   "source": [
    "df[cols_date].head()"
   ]
  },
  {
   "cell_type": "markdown",
   "metadata": {},
   "source": [
    "We must probably create some smart column in order to get something out of these date and time variables. For example a variable measuring if they signed up during the night. "
   ]
  },
  {
   "cell_type": "markdown",
   "metadata": {},
   "source": [
    "Tried `(df.arrived_date - df.first_status_day_date).dt.days` but all are zero."
   ]
  },
  {
   "cell_type": "code",
   "execution_count": 24,
   "metadata": {},
   "outputs": [
    {
     "data": {
      "text/plain": [
       "['arrived_time_of_day', 'first_status_time_of_day']"
      ]
     },
     "execution_count": 24,
     "metadata": {},
     "output_type": "execute_result"
    }
   ],
   "source": [
    "cols_time"
   ]
  },
  {
   "cell_type": "code",
   "execution_count": 25,
   "metadata": {},
   "outputs": [
    {
     "data": {
      "text/html": [
       "<div>\n",
       "<style>\n",
       "    .dataframe thead tr:only-child th {\n",
       "        text-align: right;\n",
       "    }\n",
       "\n",
       "    .dataframe thead th {\n",
       "        text-align: left;\n",
       "    }\n",
       "\n",
       "    .dataframe tbody tr th {\n",
       "        vertical-align: top;\n",
       "    }\n",
       "</style>\n",
       "<table border=\"1\" class=\"dataframe\">\n",
       "  <thead>\n",
       "    <tr style=\"text-align: right;\">\n",
       "      <th></th>\n",
       "      <th>arrived_time_of_day</th>\n",
       "      <th>first_status_time_of_day</th>\n",
       "    </tr>\n",
       "  </thead>\n",
       "  <tbody>\n",
       "    <tr>\n",
       "      <th>0</th>\n",
       "      <td>00:43:00</td>\n",
       "      <td>00:43:22</td>\n",
       "    </tr>\n",
       "    <tr>\n",
       "      <th>1</th>\n",
       "      <td>07:56:00</td>\n",
       "      <td>07:56:36</td>\n",
       "    </tr>\n",
       "    <tr>\n",
       "      <th>2</th>\n",
       "      <td>11:02:00</td>\n",
       "      <td>11:02:04</td>\n",
       "    </tr>\n",
       "    <tr>\n",
       "      <th>3</th>\n",
       "      <td>11:22:00</td>\n",
       "      <td>11:22:37</td>\n",
       "    </tr>\n",
       "    <tr>\n",
       "      <th>4</th>\n",
       "      <td>15:27:00</td>\n",
       "      <td>15:27:18</td>\n",
       "    </tr>\n",
       "  </tbody>\n",
       "</table>\n",
       "</div>"
      ],
      "text/plain": [
       "  arrived_time_of_day first_status_time_of_day\n",
       "0            00:43:00                 00:43:22\n",
       "1            07:56:00                 07:56:36\n",
       "2            11:02:00                 11:02:04\n",
       "3            11:22:00                 11:22:37\n",
       "4            15:27:00                 15:27:18"
      ]
     },
     "execution_count": 25,
     "metadata": {},
     "output_type": "execute_result"
    }
   ],
   "source": [
    "df[cols_time].head()"
   ]
  },
  {
   "cell_type": "markdown",
   "metadata": {},
   "source": [
    "These two columns are probably not interesting so we do not add it to any of the `cols_` lists."
   ]
  },
  {
   "cell_type": "code",
   "execution_count": 26,
   "metadata": {},
   "outputs": [],
   "source": [
    "df['dt_due_paid'] = (df.due_date - df.paid_date).dt.days"
   ]
  },
  {
   "cell_type": "code",
   "execution_count": 27,
   "metadata": {},
   "outputs": [
    {
     "data": {
      "text/plain": [
       "count    2572.000000\n",
       "mean       27.997278\n",
       "std        70.743715\n",
       "min      -264.000000\n",
       "25%         1.000000\n",
       "50%        30.000000\n",
       "75%        30.000000\n",
       "max       384.000000\n",
       "Name: dt_due_paid, dtype: float64"
      ]
     },
     "execution_count": 27,
     "metadata": {},
     "output_type": "execute_result"
    }
   ],
   "source": [
    "df.dt_due_paid.describe() # looks interesting"
   ]
  },
  {
   "cell_type": "code",
   "execution_count": 28,
   "metadata": {
    "collapsed": true
   },
   "outputs": [],
   "source": [
    "# add to cols num\n",
    "cols_num = cols_num + ['dt_due_paid']"
   ]
  },
  {
   "cell_type": "code",
   "execution_count": 29,
   "metadata": {},
   "outputs": [],
   "source": [
    "# df['overdue'] = df.dt_due_paid < 0 # not that good"
   ]
  },
  {
   "cell_type": "markdown",
   "metadata": {},
   "source": [
    "# ID vars"
   ]
  },
  {
   "cell_type": "code",
   "execution_count": 30,
   "metadata": {
    "collapsed": true
   },
   "outputs": [],
   "source": [
    "assert df.customer_id.nunique() == n\n",
    "assert df.application_id.nunique() == n\n",
    "assert df.customer_id.nunique() == n\n",
    "# lastly, product_ID had zero variance. "
   ]
  },
  {
   "cell_type": "markdown",
   "metadata": {},
   "source": [
    "# Categorical columns"
   ]
  },
  {
   "cell_type": "code",
   "execution_count": 31,
   "metadata": {},
   "outputs": [
    {
     "data": {
      "text/plain": [
       "v45     2\n",
       "v12     6\n",
       "v6     96\n",
       "dtype: int64"
      ]
     },
     "execution_count": 31,
     "metadata": {},
     "output_type": "execute_result"
    }
   ],
   "source": [
    "df[cols_cat].apply(lambda x: x.nunique())"
   ]
  },
  {
   "cell_type": "markdown",
   "metadata": {},
   "source": [
    "v6 has 96 categories. This creates a lot of dummies. Maybe a bad col to use. "
   ]
  },
  {
   "cell_type": "code",
   "execution_count": 32,
   "metadata": {},
   "outputs": [
    {
     "data": {
      "text/plain": [
       "<matplotlib.axes._subplots.AxesSubplot at 0x7fc1e4589630>"
      ]
     },
     "execution_count": 32,
     "metadata": {},
     "output_type": "execute_result"
    },
    {
     "data": {
      "image/png": "[encoded data removed]",
      "text/plain": [
       "<matplotlib.figure.Figure at 0x7fc1e4787d30>"
      ]
     },
     "metadata": {},
     "output_type": "display_data"
    }
   ],
   "source": [
    "df.v6.plot.box() # look like numerical"
   ]
  },
  {
   "cell_type": "code",
   "execution_count": 33,
   "metadata": {},
   "outputs": [
    {
     "data": {
      "text/plain": [
       "(array([0, 1, nan], dtype=object),\n",
       " array([ 15. ,   0. ,  99. ,  45. ,  22.5,  31.5]))"
      ]
     },
     "execution_count": 33,
     "metadata": {},
     "output_type": "execute_result"
    }
   ],
   "source": [
    "df.v45.unique(), df.v12.unique()"
   ]
  },
  {
   "cell_type": "markdown",
   "metadata": {},
   "source": [
    "v12 looks strange. Maybe it's strange on purpose so that we apply one hot encoding to categorical variables. "
   ]
  },
  {
   "cell_type": "markdown",
   "metadata": {},
   "source": [
    "# Ordinal columns (ordered categorical)"
   ]
  },
  {
   "cell_type": "code",
   "execution_count": 34,
   "metadata": {},
   "outputs": [
    {
     "data": {
      "text/plain": [
       "v13    12\n",
       "v14    12\n",
       "dtype: int64"
      ]
     },
     "execution_count": 34,
     "metadata": {},
     "output_type": "execute_result"
    }
   ],
   "source": [
    "df[cols_cato].apply(lambda x: x.nunique())"
   ]
  },
  {
   "cell_type": "code",
   "execution_count": 35,
   "metadata": {},
   "outputs": [
    {
     "data": {
      "text/html": [
       "<div>\n",
       "<style>\n",
       "    .dataframe thead tr:only-child th {\n",
       "        text-align: right;\n",
       "    }\n",
       "\n",
       "    .dataframe thead th {\n",
       "        text-align: left;\n",
       "    }\n",
       "\n",
       "    .dataframe tbody tr th {\n",
       "        vertical-align: top;\n",
       "    }\n",
       "</style>\n",
       "<table border=\"1\" class=\"dataframe\">\n",
       "  <thead>\n",
       "    <tr style=\"text-align: right;\">\n",
       "      <th></th>\n",
       "      <th>v13</th>\n",
       "      <th>v14</th>\n",
       "    </tr>\n",
       "  </thead>\n",
       "  <tbody>\n",
       "    <tr>\n",
       "      <th>1</th>\n",
       "      <td>M</td>\n",
       "      <td>RATINGSTUFE M</td>\n",
       "    </tr>\n",
       "    <tr>\n",
       "      <th>2</th>\n",
       "      <td>G</td>\n",
       "      <td>RATINGSTUFE G</td>\n",
       "    </tr>\n",
       "    <tr>\n",
       "      <th>3</th>\n",
       "      <td>D</td>\n",
       "      <td>RATINGSTUFE D</td>\n",
       "    </tr>\n",
       "    <tr>\n",
       "      <th>4</th>\n",
       "      <td>NaN</td>\n",
       "      <td>NaN</td>\n",
       "    </tr>\n",
       "    <tr>\n",
       "      <th>5</th>\n",
       "      <td>K</td>\n",
       "      <td>RATINGSTUFE K</td>\n",
       "    </tr>\n",
       "  </tbody>\n",
       "</table>\n",
       "</div>"
      ],
      "text/plain": [
       "   v13            v14\n",
       "1    M  RATINGSTUFE M\n",
       "2    G  RATINGSTUFE G\n",
       "3    D  RATINGSTUFE D\n",
       "4  NaN            NaN\n",
       "5    K  RATINGSTUFE K"
      ]
     },
     "execution_count": 35,
     "metadata": {},
     "output_type": "execute_result"
    }
   ],
   "source": [
    "df.loc[1:5, ['v13', 'v14']]"
   ]
  },
  {
   "cell_type": "code",
   "execution_count": 36,
   "metadata": {},
   "outputs": [
    {
     "data": {
      "text/plain": [
       "True"
      ]
     },
     "execution_count": 36,
     "metadata": {},
     "output_type": "execute_result"
    }
   ],
   "source": [
    "df.v14.isnull().sum() == df.v13.isnull().sum()"
   ]
  },
  {
   "cell_type": "code",
   "execution_count": 37,
   "metadata": {},
   "outputs": [
    {
     "data": {
      "text/plain": [
       "array(['M', 'G', 'D', nan, 'K', 'I', 'F', 'H', 'L', 'E', 'B', 'C', 'A'], dtype=object)"
      ]
     },
     "execution_count": 37,
     "metadata": {},
     "output_type": "execute_result"
    }
   ],
   "source": [
    "df.v13.unique()"
   ]
  },
  {
   "cell_type": "code",
   "execution_count": 38,
   "metadata": {},
   "outputs": [
    {
     "data": {
      "text/plain": [
       "array(['RATINGSTUFE M', 'RATINGSTUFE G', 'RATINGSTUFE D', nan,\n",
       "       'RATINGSTUFE K', 'RATINGSTUFE I', 'RATINGSTUFE F', 'RATINGSTUFE H',\n",
       "       'RATINGSTUFE L', 'RATINGSTUFE E', 'RATINGSTUFE B', 'RATINGSTUFE C',\n",
       "       'RATINGSTUFE A'], dtype=object)"
      ]
     },
     "execution_count": 38,
     "metadata": {},
     "output_type": "execute_result"
    }
   ],
   "source": [
    "df.v14.unique()"
   ]
  },
  {
   "cell_type": "markdown",
   "metadata": {},
   "source": [
    "Coincidence? I think not."
   ]
  },
  {
   "cell_type": "code",
   "execution_count": 39,
   "metadata": {},
   "outputs": [
    {
     "data": {
      "text/plain": [
       "v13    True\n",
       "v14    True\n",
       "dtype: bool"
      ]
     },
     "execution_count": 39,
     "metadata": {},
     "output_type": "execute_result"
    }
   ],
   "source": [
    "# filter rows where trimmed v14 and v13 are not the same \n",
    "rows1 = (df.v14.str.replace('RATINGSTUFE ', '') != df.v13)\n",
    "# are those columns NA? Yes\n",
    "df.loc[rows1, ['v13', 'v14']].notnull().sum() == 0"
   ]
  },
  {
   "cell_type": "code",
   "execution_count": 40,
   "metadata": {},
   "outputs": [],
   "source": [
    "df.drop('v14', inplace = True, axis = 1)"
   ]
  },
  {
   "cell_type": "markdown",
   "metadata": {},
   "source": [
    "Recode the ordinal variable. "
   ]
  },
  {
   "cell_type": "code",
   "execution_count": 41,
   "metadata": {},
   "outputs": [],
   "source": [
    "df.v13 = df.v13.map({'A':1, 'B':2, 'C':3, 'D':4, 'E':5, 'F':6, 'G':7, 'H':8, 'I':9, 'J':10, 'K':11, 'L':12})"
   ]
  },
  {
   "cell_type": "code",
   "execution_count": 42,
   "metadata": {
    "collapsed": true
   },
   "outputs": [],
   "source": [
    "# ordinal variable really but save time and put it into categoricals\n",
    "cols_cat = cols_cat + ['v13']"
   ]
  },
  {
   "cell_type": "code",
   "execution_count": 43,
   "metadata": {
    "collapsed": true
   },
   "outputs": [],
   "source": [
    "# it can be numerical also. qq decide.  \n",
    "# cols_num = cols_num + ['v13']"
   ]
  },
  {
   "cell_type": "markdown",
   "metadata": {},
   "source": [
    "# Numerical columns"
   ]
  },
  {
   "cell_type": "code",
   "execution_count": 44,
   "metadata": {},
   "outputs": [
    {
     "data": {
      "text/html": [
       "<div>\n",
       "<style>\n",
       "    .dataframe thead tr:only-child th {\n",
       "        text-align: right;\n",
       "    }\n",
       "\n",
       "    .dataframe thead th {\n",
       "        text-align: left;\n",
       "    }\n",
       "\n",
       "    .dataframe tbody tr th {\n",
       "        vertical-align: top;\n",
       "    }\n",
       "</style>\n",
       "<table border=\"1\" class=\"dataframe\">\n",
       "  <thead>\n",
       "    <tr style=\"text-align: right;\">\n",
       "      <th></th>\n",
       "      <th>v19</th>\n",
       "      <th>v8</th>\n",
       "      <th>v16</th>\n",
       "      <th>v7</th>\n",
       "      <th>v27</th>\n",
       "      <th>v29</th>\n",
       "      <th>v35</th>\n",
       "      <th>v17</th>\n",
       "      <th>v24</th>\n",
       "      <th>v4</th>\n",
       "      <th>...</th>\n",
       "      <th>v10</th>\n",
       "      <th>v26</th>\n",
       "      <th>v1</th>\n",
       "      <th>v23</th>\n",
       "      <th>v25</th>\n",
       "      <th>v40</th>\n",
       "      <th>v41</th>\n",
       "      <th>v9</th>\n",
       "      <th>v18</th>\n",
       "      <th>dt_due_paid</th>\n",
       "    </tr>\n",
       "  </thead>\n",
       "  <tbody>\n",
       "    <tr>\n",
       "      <th>count</th>\n",
       "      <td>2388.000000</td>\n",
       "      <td>2572.000000</td>\n",
       "      <td>2388.000000</td>\n",
       "      <td>2571.000000</td>\n",
       "      <td>2388.000000</td>\n",
       "      <td>2388.000000</td>\n",
       "      <td>2388.000000</td>\n",
       "      <td>2388.000000</td>\n",
       "      <td>2388.000000</td>\n",
       "      <td>2572.000000</td>\n",
       "      <td>...</td>\n",
       "      <td>2572.000000</td>\n",
       "      <td>2388.000000</td>\n",
       "      <td>2572.000000</td>\n",
       "      <td>2388.000000</td>\n",
       "      <td>2388.000000</td>\n",
       "      <td>2388.000000</td>\n",
       "      <td>2388.000000</td>\n",
       "      <td>2572.000000</td>\n",
       "      <td>2388.000000</td>\n",
       "      <td>2572.000000</td>\n",
       "    </tr>\n",
       "    <tr>\n",
       "      <th>mean</th>\n",
       "      <td>0.429229</td>\n",
       "      <td>193.284992</td>\n",
       "      <td>1.164154</td>\n",
       "      <td>32.246597</td>\n",
       "      <td>1.840452</td>\n",
       "      <td>0.064489</td>\n",
       "      <td>0.087940</td>\n",
       "      <td>0.328727</td>\n",
       "      <td>0.037688</td>\n",
       "      <td>1.000778</td>\n",
       "      <td>...</td>\n",
       "      <td>200.349922</td>\n",
       "      <td>0.340034</td>\n",
       "      <td>33.641913</td>\n",
       "      <td>0.143635</td>\n",
       "      <td>0.021357</td>\n",
       "      <td>0.184255</td>\n",
       "      <td>0.004188</td>\n",
       "      <td>230.280327</td>\n",
       "      <td>0.575377</td>\n",
       "      <td>27.997278</td>\n",
       "    </tr>\n",
       "    <tr>\n",
       "      <th>std</th>\n",
       "      <td>0.939083</td>\n",
       "      <td>110.996680</td>\n",
       "      <td>2.922519</td>\n",
       "      <td>11.531376</td>\n",
       "      <td>3.326539</td>\n",
       "      <td>0.381862</td>\n",
       "      <td>0.416226</td>\n",
       "      <td>0.678520</td>\n",
       "      <td>0.207331</td>\n",
       "      <td>0.027880</td>\n",
       "      <td>...</td>\n",
       "      <td>78.806132</td>\n",
       "      <td>0.687397</td>\n",
       "      <td>9.089623</td>\n",
       "      <td>0.556687</td>\n",
       "      <td>0.155759</td>\n",
       "      <td>0.446054</td>\n",
       "      <td>0.064590</td>\n",
       "      <td>114.915400</td>\n",
       "      <td>0.881650</td>\n",
       "      <td>70.743715</td>\n",
       "    </tr>\n",
       "    <tr>\n",
       "      <th>min</th>\n",
       "      <td>0.000000</td>\n",
       "      <td>0.000000</td>\n",
       "      <td>0.000000</td>\n",
       "      <td>18.000000</td>\n",
       "      <td>0.000000</td>\n",
       "      <td>0.000000</td>\n",
       "      <td>0.000000</td>\n",
       "      <td>0.000000</td>\n",
       "      <td>0.000000</td>\n",
       "      <td>1.000000</td>\n",
       "      <td>...</td>\n",
       "      <td>50.000000</td>\n",
       "      <td>0.000000</td>\n",
       "      <td>7.000000</td>\n",
       "      <td>0.000000</td>\n",
       "      <td>0.000000</td>\n",
       "      <td>0.000000</td>\n",
       "      <td>0.000000</td>\n",
       "      <td>50.000000</td>\n",
       "      <td>0.000000</td>\n",
       "      <td>-264.000000</td>\n",
       "    </tr>\n",
       "    <tr>\n",
       "      <th>25%</th>\n",
       "      <td>0.000000</td>\n",
       "      <td>100.000000</td>\n",
       "      <td>0.000000</td>\n",
       "      <td>24.000000</td>\n",
       "      <td>0.000000</td>\n",
       "      <td>0.000000</td>\n",
       "      <td>0.000000</td>\n",
       "      <td>0.000000</td>\n",
       "      <td>0.000000</td>\n",
       "      <td>1.000000</td>\n",
       "      <td>...</td>\n",
       "      <td>190.000000</td>\n",
       "      <td>0.000000</td>\n",
       "      <td>30.000000</td>\n",
       "      <td>0.000000</td>\n",
       "      <td>0.000000</td>\n",
       "      <td>0.000000</td>\n",
       "      <td>0.000000</td>\n",
       "      <td>190.000000</td>\n",
       "      <td>0.000000</td>\n",
       "      <td>1.000000</td>\n",
       "    </tr>\n",
       "    <tr>\n",
       "      <th>50%</th>\n",
       "      <td>0.000000</td>\n",
       "      <td>199.000000</td>\n",
       "      <td>0.000000</td>\n",
       "      <td>29.000000</td>\n",
       "      <td>1.000000</td>\n",
       "      <td>0.000000</td>\n",
       "      <td>0.000000</td>\n",
       "      <td>0.000000</td>\n",
       "      <td>0.000000</td>\n",
       "      <td>1.000000</td>\n",
       "      <td>...</td>\n",
       "      <td>199.000000</td>\n",
       "      <td>0.000000</td>\n",
       "      <td>30.000000</td>\n",
       "      <td>0.000000</td>\n",
       "      <td>0.000000</td>\n",
       "      <td>0.000000</td>\n",
       "      <td>0.000000</td>\n",
       "      <td>199.000000</td>\n",
       "      <td>0.000000</td>\n",
       "      <td>30.000000</td>\n",
       "    </tr>\n",
       "    <tr>\n",
       "      <th>75%</th>\n",
       "      <td>1.000000</td>\n",
       "      <td>199.000000</td>\n",
       "      <td>1.000000</td>\n",
       "      <td>38.000000</td>\n",
       "      <td>2.000000</td>\n",
       "      <td>0.000000</td>\n",
       "      <td>0.000000</td>\n",
       "      <td>0.000000</td>\n",
       "      <td>0.000000</td>\n",
       "      <td>1.000000</td>\n",
       "      <td>...</td>\n",
       "      <td>200.000000</td>\n",
       "      <td>1.000000</td>\n",
       "      <td>30.000000</td>\n",
       "      <td>0.000000</td>\n",
       "      <td>0.000000</td>\n",
       "      <td>0.000000</td>\n",
       "      <td>0.000000</td>\n",
       "      <td>300.000000</td>\n",
       "      <td>1.000000</td>\n",
       "      <td>30.000000</td>\n",
       "    </tr>\n",
       "    <tr>\n",
       "      <th>max</th>\n",
       "      <td>7.000000</td>\n",
       "      <td>500.000000</td>\n",
       "      <td>32.000000</td>\n",
       "      <td>86.000000</td>\n",
       "      <td>32.000000</td>\n",
       "      <td>10.000000</td>\n",
       "      <td>8.000000</td>\n",
       "      <td>5.000000</td>\n",
       "      <td>2.000000</td>\n",
       "      <td>2.000000</td>\n",
       "      <td>...</td>\n",
       "      <td>500.000000</td>\n",
       "      <td>5.000000</td>\n",
       "      <td>60.000000</td>\n",
       "      <td>11.000000</td>\n",
       "      <td>3.000000</td>\n",
       "      <td>4.000000</td>\n",
       "      <td>1.000000</td>\n",
       "      <td>600.000000</td>\n",
       "      <td>7.000000</td>\n",
       "      <td>384.000000</td>\n",
       "    </tr>\n",
       "  </tbody>\n",
       "</table>\n",
       "<p>8 rows × 23 columns</p>\n",
       "</div>"
      ],
      "text/plain": [
       "               v19           v8          v16           v7          v27  \\\n",
       "count  2388.000000  2572.000000  2388.000000  2571.000000  2388.000000   \n",
       "mean      0.429229   193.284992     1.164154    32.246597     1.840452   \n",
       "std       0.939083   110.996680     2.922519    11.531376     3.326539   \n",
       "min       0.000000     0.000000     0.000000    18.000000     0.000000   \n",
       "25%       0.000000   100.000000     0.000000    24.000000     0.000000   \n",
       "50%       0.000000   199.000000     0.000000    29.000000     1.000000   \n",
       "75%       1.000000   199.000000     1.000000    38.000000     2.000000   \n",
       "max       7.000000   500.000000    32.000000    86.000000    32.000000   \n",
       "\n",
       "               v29          v35          v17          v24           v4  \\\n",
       "count  2388.000000  2388.000000  2388.000000  2388.000000  2572.000000   \n",
       "mean      0.064489     0.087940     0.328727     0.037688     1.000778   \n",
       "std       0.381862     0.416226     0.678520     0.207331     0.027880   \n",
       "min       0.000000     0.000000     0.000000     0.000000     1.000000   \n",
       "25%       0.000000     0.000000     0.000000     0.000000     1.000000   \n",
       "50%       0.000000     0.000000     0.000000     0.000000     1.000000   \n",
       "75%       0.000000     0.000000     0.000000     0.000000     1.000000   \n",
       "max      10.000000     8.000000     5.000000     2.000000     2.000000   \n",
       "\n",
       "          ...               v10          v26           v1          v23  \\\n",
       "count     ...       2572.000000  2388.000000  2572.000000  2388.000000   \n",
       "mean      ...        200.349922     0.340034    33.641913     0.143635   \n",
       "std       ...         78.806132     0.687397     9.089623     0.556687   \n",
       "min       ...         50.000000     0.000000     7.000000     0.000000   \n",
       "25%       ...        190.000000     0.000000    30.000000     0.000000   \n",
       "50%       ...        199.000000     0.000000    30.000000     0.000000   \n",
       "75%       ...        200.000000     1.000000    30.000000     0.000000   \n",
       "max       ...        500.000000     5.000000    60.000000    11.000000   \n",
       "\n",
       "               v25          v40          v41           v9          v18  \\\n",
       "count  2388.000000  2388.000000  2388.000000  2572.000000  2388.000000   \n",
       "mean      0.021357     0.184255     0.004188   230.280327     0.575377   \n",
       "std       0.155759     0.446054     0.064590   114.915400     0.881650   \n",
       "min       0.000000     0.000000     0.000000    50.000000     0.000000   \n",
       "25%       0.000000     0.000000     0.000000   190.000000     0.000000   \n",
       "50%       0.000000     0.000000     0.000000   199.000000     0.000000   \n",
       "75%       0.000000     0.000000     0.000000   300.000000     1.000000   \n",
       "max       3.000000     4.000000     1.000000   600.000000     7.000000   \n",
       "\n",
       "       dt_due_paid  \n",
       "count  2572.000000  \n",
       "mean     27.997278  \n",
       "std      70.743715  \n",
       "min    -264.000000  \n",
       "25%       1.000000  \n",
       "50%      30.000000  \n",
       "75%      30.000000  \n",
       "max     384.000000  \n",
       "\n",
       "[8 rows x 23 columns]"
      ]
     },
     "execution_count": 44,
     "metadata": {},
     "output_type": "execute_result"
    }
   ],
   "source": [
    "df[cols_num].describe()"
   ]
  },
  {
   "cell_type": "markdown",
   "metadata": {
    "collapsed": true
   },
   "source": [
    "qq write code to check if any of the cols above are identical, or simple tranformations of each other (will lead to collinearyt for example)"
   ]
  },
  {
   "cell_type": "code",
   "execution_count": 45,
   "metadata": {},
   "outputs": [
    {
     "data": {
      "image/png": "[encoded data removed]",
      "text/plain": [
       "<matplotlib.figure.Figure at 0x7fc1e46d6a58>"
      ]
     },
     "metadata": {},
     "output_type": "display_data"
    },
    {
     "data": {
      "image/png": "[encoded data removed]",
      "text/plain": [
       "<matplotlib.figure.Figure at 0x7fc1e4659e48>"
      ]
     },
     "metadata": {},
     "output_type": "display_data"
    },
    {
     "data": {
      "image/png": "[encoded data removed]",
      "text/plain": [
       "<matplotlib.figure.Figure at 0x7fc1e464d550>"
      ]
     },
     "metadata": {},
     "output_type": "display_data"
    },
    {
     "data": {
      "image/png": "[encoded data removed]",
      "text/plain": [
       "<matplotlib.figure.Figure at 0x7fc1e40dbb70>"
      ]
     },
     "metadata": {},
     "output_type": "display_data"
    },
    {
     "data": {
      "image/png": "[encoded data removed]",
      "text/plain": [
       "<matplotlib.figure.Figure at 0x7fc1e40bcc18>"
      ]
     },
     "metadata": {},
     "output_type": "display_data"
    },
    {
     "data": {
      "image/png": "[encoded data removed]",
      "text/plain": [
       "<matplotlib.figure.Figure at 0x7fc1e401cfd0>"
      ]
     },
     "metadata": {},
     "output_type": "display_data"
    },
    {
     "data": {
      "image/png": "[encoded data removed]",
      "text/plain": [
       "<matplotlib.figure.Figure at 0x7fc1e403a748>"
      ]
     },
     "metadata": {},
     "output_type": "display_data"
    },
    {
     "data": {
      "image/png": "[encoded data removed]",
      "text/plain": [
       "<matplotlib.figure.Figure at 0x7fc1dcf5acf8>"
      ]
     },
     "metadata": {},
     "output_type": "display_data"
    },
    {
     "data": {
      "image/png": "[encoded data removed]",
      "text/plain": [
       "<matplotlib.figure.Figure at 0x7fc1dced5240>"
      ]
     },
     "metadata": {},
     "output_type": "display_data"
    },
    {
     "data": {
      "image/png": "[encoded data removed]",
      "text/plain": [
       "<matplotlib.figure.Figure at 0x7fc1dced52b0>"
      ]
     },
     "metadata": {},
     "output_type": "display_data"
    },
    {
     "data": {
      "image/png": "[encoded data removed]",
      "text/plain": [
       "<matplotlib.figure.Figure at 0x7fc1dce4f710>"
      ]
     },
     "metadata": {},
     "output_type": "display_data"
    },
    {
     "data": {
      "image/png": "[encoded data removed]",
      "text/plain": [
       "<matplotlib.figure.Figure at 0x7fc1dcd2f588>"
      ]
     },
     "metadata": {},
     "output_type": "display_data"
    },
    {
     "data": {
      "image/png": "[encoded data removed]",
      "text/plain": [
       "<matplotlib.figure.Figure at 0x7fc1dccaccf8>"
      ]
     },
     "metadata": {},
     "output_type": "display_data"
    },
    {
     "data": {
      "image/png": "[encoded data removed]",
      "text/plain": [
       "<matplotlib.figure.Figure at 0x7fc1dccca748>"
      ]
     },
     "metadata": {},
     "output_type": "display_data"
    },
    {
     "data": {
      "image/png": "[encoded data removed]",
      "text/plain": [
       "<matplotlib.figure.Figure at 0x7fc1dcc75470>"
      ]
     },
     "metadata": {},
     "output_type": "display_data"
    },
    {
     "data": {
      "image/png": "[encoded data removed]",
      "text/plain": [
       "<matplotlib.figure.Figure at 0x7fc1dcc56668>"
      ]
     },
     "metadata": {},
     "output_type": "display_data"
    },
    {
     "data": {
      "image/png": "[encoded data removed]",
      "text/plain": [
       "<matplotlib.figure.Figure at 0x7fc1dccca2e8>"
      ]
     },
     "metadata": {},
     "output_type": "display_data"
    },
    {
     "data": {
      "image/png": "[encoded data removed]",
      "text/plain": [
       "<matplotlib.figure.Figure at 0x7fc1dcc6b5c0>"
      ]
     },
     "metadata": {},
     "output_type": "display_data"
    },
    {
     "data": {
      "image/png": "[encoded data removed]",
      "text/plain": [
       "<matplotlib.figure.Figure at 0x7fc1dccee6a0>"
      ]
     },
     "metadata": {},
     "output_type": "display_data"
    },
    {
     "data": {
      "image/png": "[encoded data removed]",
      "text/plain": [
       "<matplotlib.figure.Figure at 0x7fc1e40fe358>"
      ]
     },
     "metadata": {},
     "output_type": "display_data"
    },
    {
     "data": {
      "image/png": "[encoded data removed]",
      "text/plain": [
       "<matplotlib.figure.Figure at 0x7fc1dcd99b38>"
      ]
     },
     "metadata": {},
     "output_type": "display_data"
    },
    {
     "data": {
      "image/png": "[encoded data removed]",
      "text/plain": [
       "<matplotlib.figure.Figure at 0x7fc1e4038b38>"
      ]
     },
     "metadata": {},
     "output_type": "display_data"
    },
    {
     "data": {
      "image/png": "[encoded data removed]",
      "text/plain": [
       "<matplotlib.figure.Figure at 0x7fc1e401a048>"
      ]
     },
     "metadata": {},
     "output_type": "display_data"
    }
   ],
   "source": [
    "for col in cols_num:\n",
    "    df[col].plot.box()\n",
    "    plt.title(col)\n",
    "    plt.show()"
   ]
  },
  {
   "cell_type": "markdown",
   "metadata": {},
   "source": [
    "Boxplots look strange for many columns. "
   ]
  },
  {
   "cell_type": "markdown",
   "metadata": {},
   "source": [
    "If the nr of unique is too low, it is more likely a categorical column."
   ]
  },
  {
   "cell_type": "code",
   "execution_count": 46,
   "metadata": {},
   "outputs": [
    {
     "data": {
      "text/plain": [
       "Text(0.5,0,'Nr rows / Number of unique')"
      ]
     },
     "execution_count": 46,
     "metadata": {},
     "output_type": "execute_result"
    },
    {
     "data": {
      "image/png": "[encoded data removed]",
      "text/plain": [
       "<matplotlib.figure.Figure at 0x7fc1e46a3f98>"
      ]
     },
     "metadata": {},
     "output_type": "display_data"
    }
   ],
   "source": [
    "series = df[cols_num].apply(lambda x: n / x.nunique())\n",
    "series.sort_values().plot.barh()\n",
    "plt.ylabel(\"Column name\")\n",
    "plt.xlabel(\"Nr rows / Number of unique\")"
   ]
  },
  {
   "cell_type": "code",
   "execution_count": 47,
   "metadata": {},
   "outputs": [
    {
     "data": {
      "text/plain": [
       "array([  0.,  nan,   1.])"
      ]
     },
     "execution_count": 47,
     "metadata": {},
     "output_type": "execute_result"
    }
   ],
   "source": [
    "df.v36.unique() # looks like a binary variable, not a numerical one - but clf do not care"
   ]
  },
  {
   "cell_type": "code",
   "execution_count": 48,
   "metadata": {},
   "outputs": [
    {
     "data": {
      "text/plain": [
       "array([  0.,  nan,   1.,   3.,   2.,   4.,   7.,   5.,   6.])"
      ]
     },
     "execution_count": 48,
     "metadata": {},
     "output_type": "execute_result"
    }
   ],
   "source": [
    "df.v18.unique() # looks like an (ordered) categorical variable, not a numerical one - but clf do not care"
   ]
  },
  {
   "cell_type": "markdown",
   "metadata": {},
   "source": [
    "The columns that look like an ordered categorical could be kept as numerical as this is OK for decision trees and for logistic regression we have to assume the impact of class 1 to class 2 is the same as that of class 2 to class 3, etc.\n",
    "\n",
    "There is a problem, which is illustrated by the box plots, see for example column v12 (it is strange) or columns v35 and v18 (is any of those in reality an ordinal column?). We do not know if the columns are numerical, categorical or ordered categorical. A description was given but we are skeptical if this description correspond to reality. \n",
    "\n",
    "To move forward somehow, we put columns intwo two buckets: numerical or categorical. And we will consider a column to be categorical based on the number of unique values. Using the \"elbow principle\" on the graph above, we pick a threshold and split columns into either numerical or categorical."
   ]
  },
  {
   "cell_type": "code",
   "execution_count": 49,
   "metadata": {
    "collapsed": true
   },
   "outputs": [],
   "source": [
    "# elbow method \n",
    "threshold = 200\n",
    "cols_numlikecat = series[series.values > threshold].index"
   ]
  },
  {
   "cell_type": "code",
   "execution_count": 50,
   "metadata": {},
   "outputs": [
    {
     "data": {
      "text/plain": [
       "Index(['v19', 'v8', 'v29', 'v35', 'v17', 'v24', 'v4', 'v36', 'v2', 'v26',\n",
       "       'v23', 'v25', 'v40', 'v41', 'v18'],\n",
       "      dtype='object')"
      ]
     },
     "execution_count": 50,
     "metadata": {},
     "output_type": "execute_result"
    }
   ],
   "source": [
    "cols_numlikecat"
   ]
  },
  {
   "cell_type": "markdown",
   "metadata": {},
   "source": [
    "# Cols with same nr of NA"
   ]
  },
  {
   "cell_type": "code",
   "execution_count": 51,
   "metadata": {
    "collapsed": true
   },
   "outputs": [],
   "source": [
    "# some cols have exactly the same nr of NA. are those columns similar? \n",
    "mask = (df.isnull().sum() == 184).values\n",
    "cols_na184 = df.columns[mask]"
   ]
  },
  {
   "cell_type": "code",
   "execution_count": 52,
   "metadata": {},
   "outputs": [
    {
     "data": {
      "text/plain": [
       "Index(['v15', 'v16', 'v17', 'v18', 'v19', 'v23', 'v24', 'v25', 'v26', 'v27',\n",
       "       'v29', 'v35', 'v36', 'v40', 'v41'],\n",
       "      dtype='object')"
      ]
     },
     "execution_count": 52,
     "metadata": {},
     "output_type": "execute_result"
    }
   ],
   "source": [
    "cols_na184"
   ]
  },
  {
   "cell_type": "code",
   "execution_count": 53,
   "metadata": {},
   "outputs": [],
   "source": [
    "# df.loc[1:20, cols_na147] "
   ]
  },
  {
   "cell_type": "code",
   "execution_count": 54,
   "metadata": {},
   "outputs": [],
   "source": [
    "# df.loc[df.v15.isnull() == True].head().T"
   ]
  },
  {
   "cell_type": "markdown",
   "metadata": {},
   "source": [
    "It might mean something that they have the same number of NA. But what? "
   ]
  },
  {
   "cell_type": "markdown",
   "metadata": {},
   "source": [
    "# Different column choices "
   ]
  },
  {
   "cell_type": "markdown",
   "metadata": {},
   "source": [
    "Some numerical columns look like categorical, so we can (a) trust the variable descriptions and keep them as numerical, (b) change the so called \"numerical\" columns that look like categorical into the list of categorical columns. \n",
    "\n",
    "Recall that v6 has 96 number of unique. High cardinality can be a problem (increases dimensionality and might cause over-fitting) so we try with & without v6."
   ]
  },
  {
   "cell_type": "code",
   "execution_count": 55,
   "metadata": {},
   "outputs": [],
   "source": [
    "# i) the columns chosen based on data cleaning above\n",
    "cols_num\n",
    "cols_cat\n",
    "\n",
    "# ii) move cols_numlikecat from _num into _cat\n",
    "cols_num2 = list(set(cols_num) - set(cols_numlikecat))\n",
    "cols_cat2 = list(set(cols_cat) | set(cols_numlikecat))\n",
    "\n",
    "# iii) move v6 from categorical to numerical.\n",
    "cols_num3 = cols_num + ['v6']\n",
    "cols_cat3 = list(set(cols_cat)  -  set(['v6']))\n",
    "\n",
    "# iv) do both of the above \n",
    "cols_num4 = cols_num2 + ['v6']\n",
    "cols_cat4 = list(set(cols_cat2)  -  set(['v6']))"
   ]
  },
  {
   "cell_type": "code",
   "execution_count": 56,
   "metadata": {
    "collapsed": true
   },
   "outputs": [],
   "source": [
    "assert len(cols_num + cols_cat) == len(cols_num2 + cols_cat2)"
   ]
  },
  {
   "cell_type": "code",
   "execution_count": 57,
   "metadata": {
    "collapsed": true
   },
   "outputs": [],
   "source": [
    "assert len(cols_num2) + len(cols_numlikecat) == len(cols_num)"
   ]
  },
  {
   "cell_type": "code",
   "execution_count": 58,
   "metadata": {},
   "outputs": [
    {
     "data": {
      "text/plain": [
       "(23, 4)"
      ]
     },
     "execution_count": 58,
     "metadata": {},
     "output_type": "execute_result"
    }
   ],
   "source": [
    "len(cols_num), len(cols_cat)"
   ]
  },
  {
   "cell_type": "code",
   "execution_count": 59,
   "metadata": {},
   "outputs": [
    {
     "data": {
      "text/plain": [
       "(8, 19)"
      ]
     },
     "execution_count": 59,
     "metadata": {},
     "output_type": "execute_result"
    }
   ],
   "source": [
    "len(cols_num2), len(cols_cat2)"
   ]
  },
  {
   "cell_type": "code",
   "execution_count": 60,
   "metadata": {},
   "outputs": [
    {
     "data": {
      "text/plain": [
       "(24, 3)"
      ]
     },
     "execution_count": 60,
     "metadata": {},
     "output_type": "execute_result"
    }
   ],
   "source": [
    "len(cols_num3), len(cols_cat3) "
   ]
  },
  {
   "cell_type": "code",
   "execution_count": 61,
   "metadata": {},
   "outputs": [
    {
     "data": {
      "text/plain": [
       "(9, 18)"
      ]
     },
     "execution_count": 61,
     "metadata": {},
     "output_type": "execute_result"
    }
   ],
   "source": [
    "len(cols_num4), len(cols_cat4) "
   ]
  },
  {
   "cell_type": "markdown",
   "metadata": {},
   "source": [
    "# Select clf"
   ]
  },
  {
   "cell_type": "code",
   "execution_count": 62,
   "metadata": {
    "collapsed": true
   },
   "outputs": [],
   "source": [
    "clf = DecisionTreeClassifier() "
   ]
  },
  {
   "cell_type": "code",
   "execution_count": 63,
   "metadata": {
    "collapsed": true
   },
   "outputs": [],
   "source": [
    "clf = RandomForestClassifier()"
   ]
  },
  {
   "cell_type": "code",
   "execution_count": 64,
   "metadata": {
    "collapsed": true
   },
   "outputs": [],
   "source": [
    "clf = GradientBoostingClassifier()"
   ]
  },
  {
   "cell_type": "code",
   "execution_count": 65,
   "metadata": {
    "collapsed": true
   },
   "outputs": [],
   "source": [
    "clf = LogisticRegression()"
   ]
  },
  {
   "cell_type": "code",
   "execution_count": 66,
   "metadata": {
    "collapsed": true
   },
   "outputs": [],
   "source": [
    "clf = LogisticRegression(C = 1.5, penalty = \"l1\")"
   ]
  },
  {
   "cell_type": "markdown",
   "metadata": {},
   "source": [
    "All classifiers were similar in their performance. Of course logreg is faster. Since the models are all bad (because AUC = 65%) we will move on with logreg.  Later on we try to use GridSearchCV on the other classifiers to see if their parameters must be tuned in order to be effective for this problem. \n",
    "\n",
    "Currently, however, we think the problem lies in our data preparation stage. That might be due to our bad understanding of the data.\n",
    "\n",
    "The parameters C and penalty was not chosen after hyperparameter tuning, but simply set to `C=1.5` and `penalty=\"l1\"` for theoretical reasons: we want to avoid over-fitting and thus raise the C parameter slightly from its default value, and we use l1 to shrink coef to zero thereby performing a variable selection for us. "
   ]
  },
  {
   "cell_type": "markdown",
   "metadata": {},
   "source": [
    "# Select X\n",
    "\n",
    "We can try out different alternatives. "
   ]
  },
  {
   "cell_type": "code",
   "execution_count": 67,
   "metadata": {},
   "outputs": [],
   "source": [
    "numcols = cols_num3\n",
    "catcols = cols_cat3\n",
    "usedcols = numcols + catcols"
   ]
  },
  {
   "cell_type": "markdown",
   "metadata": {},
   "source": [
    "Strangely enough, varying which columns we use do not affect the AUC score.\n",
    "\n",
    "We chose alternative 3 because even though we suspect some numericals are in fact categorical, we do not know so and stick to the definition provided by `variabletypes`. (Except for the categorical `v6` that we treat as numerical since we do not want to create dummies for the 96 different categories - in addition, the boxplot of v6 look like a nice distrubtion.)"
   ]
  },
  {
   "cell_type": "markdown",
   "metadata": {},
   "source": [
    "# Fit and predict on test data"
   ]
  },
  {
   "cell_type": "code",
   "execution_count": 68,
   "metadata": {
    "collapsed": true
   },
   "outputs": [],
   "source": [
    "# split data\n",
    "df_train = df[df.y.isnull() == False]\n",
    "df_test = df[df.y.isnull() == True]"
   ]
  },
  {
   "cell_type": "code",
   "execution_count": 69,
   "metadata": {
    "collapsed": true
   },
   "outputs": [],
   "source": [
    "def get_cols(cols):\n",
    "    return FunctionTransformer(lambda x: x[cols], validate=False)"
   ]
  },
  {
   "cell_type": "code",
   "execution_count": 70,
   "metadata": {},
   "outputs": [],
   "source": [
    "numerical_pipeline = Pipeline([\n",
    "    ('select', get_cols(numcols)),\n",
    "    ('imp', Imputer()),\n",
    "    ('scale', StandardScaler()\n",
    "    )\n",
    "])\n",
    "\n",
    "categorical_pipeline = Pipeline([\n",
    "    ('select', get_cols(catcols)),\n",
    "    ('imp', Imputer(strategy = 'most_frequent')),\n",
    "    ('onehot', OneHotEncoder(handle_unknown = 'ignore')) \n",
    "    # OneHotEncoder(handle_unknown = 'ignore') is needed for cols_cat2\n",
    "])\n",
    "\n",
    "union = FeatureUnion([\n",
    "    ('numeric', numerical_pipeline),\n",
    "    ('categorical', categorical_pipeline)\n",
    "])\n",
    "\n",
    "pl = Pipeline([\n",
    "    ('union', union),\n",
    "    ('clf', clf)\n",
    "])"
   ]
  },
  {
   "cell_type": "markdown",
   "metadata": {},
   "source": [
    "The numerical pipeline could contain a LDA step to reduce dimensionality. We could also use an ensemble of classifiers, for example both trees and regression, and average their predictions. This can make the final predicitons slighly better."
   ]
  },
  {
   "cell_type": "code",
   "execution_count": 71,
   "metadata": {},
   "outputs": [
    {
     "name": "stdout",
     "output_type": "stream",
     "text": [
      "nr numerical:  24\n",
      "nr categorical:  3\n",
      "0.670864339592 0.0272540165156\n"
     ]
    }
   ],
   "source": [
    "X = df_train[numcols + catcols]\n",
    "y = df_train.y\n",
    "\n",
    "cv = cross_val_score(pl, X, y, cv = 10, scoring='roc_auc')\n",
    "print(\"nr numerical: \", len(numcols))\n",
    "print(\"nr categorical: \", len(catcols))\n",
    "print(cv.mean(), cv.std())"
   ]
  },
  {
   "cell_type": "code",
   "execution_count": 72,
   "metadata": {},
   "outputs": [
    {
     "data": {
      "text/plain": [
       "Pipeline(memory=None,\n",
       "     steps=[('union', FeatureUnion(n_jobs=1,\n",
       "       transformer_list=[('numeric', Pipeline(memory=None,\n",
       "     steps=[('select', FunctionTransformer(accept_sparse=False,\n",
       "          func=<function get_cols.<locals>.<lambda> at 0x7fc1dcc0a6a8>,\n",
       "          inv_kw_args=None, inverse_func=None, kw_args=None,\n",
       "    ...ty='l1', random_state=None, solver='liblinear', tol=0.0001,\n",
       "          verbose=0, warm_start=False))])"
      ]
     },
     "execution_count": 72,
     "metadata": {},
     "output_type": "execute_result"
    }
   ],
   "source": [
    "pl.fit(X, y)"
   ]
  },
  {
   "cell_type": "markdown",
   "metadata": {},
   "source": [
    "## Coef"
   ]
  },
  {
   "cell_type": "code",
   "execution_count": 73,
   "metadata": {},
   "outputs": [
    {
     "data": {
      "text/plain": [
       "Text(0,0.5,'Coef estimate')"
      ]
     },
     "execution_count": 73,
     "metadata": {},
     "output_type": "execute_result"
    },
    {
     "data": {
      "image/png": "[encoded data removed]",
      "text/plain": [
       "<matplotlib.figure.Figure at 0x7fc1dcc1a128>"
      ]
     },
     "metadata": {},
     "output_type": "display_data"
    }
   ],
   "source": [
    "coefs = pd.Series(clf.coef_.tolist()[0])\n",
    "coefs[coefs.index < len(numcols)].plot.bar()\n",
    "plt.title(\"Numerical cols\")\n",
    "plt.ylabel(\"Coef estimate\")"
   ]
  },
  {
   "cell_type": "code",
   "execution_count": 74,
   "metadata": {},
   "outputs": [
    {
     "name": "stdout",
     "output_type": "stream",
     "text": [
      "Penalty l1 de-selected 4  out of  27  variables.\n"
     ]
    }
   ],
   "source": [
    "print(\"Penalty l1 de-selected\", (clf.coef_ == 0).sum(), \" out of \", len(numcols + catcols), \" variables.\")"
   ]
  },
  {
   "cell_type": "code",
   "execution_count": 75,
   "metadata": {
    "collapsed": true
   },
   "outputs": [],
   "source": [
    "# X.columns for the decision tree\n",
    "# pd.Series(pl.named_steps['clf'].feature_importances_).sort_values(ascending=False).plot.barh()\n",
    "# pl.steps[1][1].get_feature_names()"
   ]
  },
  {
   "cell_type": "markdown",
   "metadata": {},
   "source": [
    "# Submit "
   ]
  },
  {
   "cell_type": "code",
   "execution_count": 76,
   "metadata": {},
   "outputs": [],
   "source": [
    "assert len(df_test) == 2572-2058+1 # given in instructions"
   ]
  },
  {
   "cell_type": "code",
   "execution_count": 77,
   "metadata": {},
   "outputs": [],
   "source": [
    "# test set\n",
    "X_test = df_test[numcols + catcols]"
   ]
  },
  {
   "cell_type": "code",
   "execution_count": 78,
   "metadata": {},
   "outputs": [
    {
     "data": {
      "text/plain": [
       "Pipeline(memory=None,\n",
       "     steps=[('union', FeatureUnion(n_jobs=1,\n",
       "       transformer_list=[('numeric', Pipeline(memory=None,\n",
       "     steps=[('select', FunctionTransformer(accept_sparse=False,\n",
       "          func=<function get_cols.<locals>.<lambda> at 0x7fc1dcc0a6a8>,\n",
       "          inv_kw_args=None, inverse_func=None, kw_args=None,\n",
       "    ...ty='l1', random_state=None, solver='liblinear', tol=0.0001,\n",
       "          verbose=0, warm_start=False))])"
      ]
     },
     "execution_count": 78,
     "metadata": {},
     "output_type": "execute_result"
    }
   ],
   "source": [
    "# fit the model on all data in our training set\n",
    "pl.fit(X, y)"
   ]
  },
  {
   "cell_type": "code",
   "execution_count": 79,
   "metadata": {
    "collapsed": true
   },
   "outputs": [],
   "source": [
    "# predict on the data in our test set \n",
    "y_pred_proba = pl.predict_proba(X_test)[:, 1]"
   ]
  },
  {
   "cell_type": "code",
   "execution_count": 80,
   "metadata": {},
   "outputs": [],
   "source": [
    "# submit predictions\n",
    "pd.DataFrame({'Appplication_ID':df_test['application_id'], \n",
    "              'Proba':y_pred_proba}\n",
    "            ).set_index('Appplication_ID').to_csv('submit/submit_jacob.csv')"
   ]
  }
 ],
 "metadata": {
  "kernelspec": {
   "display_name": "Python 3",
   "language": "python",
   "name": "python3"
  },
  "language_info": {
   "codemirror_mode": {
    "name": "ipython",
    "version": 3
   },
   "file_extension": ".py",
   "mimetype": "text/x-python",
   "name": "python",
   "nbconvert_exporter": "python",
   "pygments_lexer": "ipython3",
   "version": "3.6.3"
  }
 },
 "nbformat": 4,
 "nbformat_minor": 2
}
